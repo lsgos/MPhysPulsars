{
 "cells": [
  {
   "cell_type": "markdown",
   "metadata": {},
   "source": [
    "Try to use a novelty detection approach with an autoencoder. See Japkowicz, A Novelty Detection Approach to Classification "
   ]
  },
  {
   "cell_type": "code",
   "execution_count": 1,
   "metadata": {
    "collapsed": true
   },
   "outputs": [],
   "source": [
    "import numpy as np\n",
    "from matplotlib import pyplot as plt\n",
    "import tensorflow as tf"
   ]
  },
  {
   "cell_type": "markdown",
   "metadata": {},
   "source": [
    "The basic idea here follows Japkowicz et al, _A Novelty Based Approach to Classification_. This approach is designed for problems where negative examples are plentiful but positive examples are scarse, as in the case for frb detection. It exploits the fact that neural networks generalise poorly to examples outside their training sets. \n",
    "\n",
    "First, an autoencoder is trained on the negative examples. This is an unsupervised feature extraction method, which aims to map the input to a lower dimensional _latent space_. This is accomplised by having a network map the input to a hidden layer of lower dimensionality that the input, then attempting to reconstruct the input from this latent space alone, with the loss based on the difference between the ground truth and the models attempt at reconstruction. In order to efficiently do so, the network must capture meaningful features in the latent space. In the blog post I got this implementation of an autoencoder from, the author demonstrates the idea on the well-known MNIST set. \n",
    "\n",
    "Our approach to detect novelty is then to use the _error_ in the reconstruction of an example as a measure of the outlier-ness of an observation. Observations similar to those the auto-encoder saw during training will be reconstructed efficiently, wheras unusual observations will have poor reconstruction. We can this to a 'probablity' using a softmax\n",
    "\n",
    "Here, we are using a 'Variational autoencoder' which does some fancier stuff. Possibly we need to play round with the complexity of the model.\n",
    "\n",
    "The really nice thing about this is that we can carry out cross validation _only on the noise data_, to get the reconstruction error as low as possible, and use our simulations sparingly. \n"
   ]
  },
  {
   "cell_type": "code",
   "execution_count": 2,
   "metadata": {
    "collapsed": false
   },
   "outputs": [],
   "source": [
    "\"credit: https://jmetzen.github.io/2015-11-27/vae.html\"\n",
    "\n",
    "def xavier_init(fan_in, fan_out, constant=1): \n",
    "    \"\"\" Xavier initialization of network weights\"\"\"\n",
    "    # https://stackoverflow.com/questions/33640581/how-to-do-xavier-initialization-on-tensorflow\n",
    "    low = -constant*np.sqrt(6.0/(fan_in + fan_out)) \n",
    "    high = constant*np.sqrt(6.0/(fan_in + fan_out))\n",
    "    return tf.random_uniform((fan_in, fan_out), \n",
    "                             minval=low, maxval=high, \n",
    "                             dtype=tf.float32)\n",
    "\n",
    "class VariationalAutoencoder(object):\n",
    "    \"\"\" Variation Autoencoder (VAE) with an sklearn-like interface implemented using TensorFlow.\n",
    "    \n",
    "    This implementation uses probabilistic encoders and decoders using Gaussian \n",
    "    distributions and  realized by multi-layer perceptrons. The VAE can be learned\n",
    "    end-to-end.\n",
    "    \n",
    "    See \"Auto-Encoding Variational Bayes\" by Kingma and Welling for more details.\n",
    "    \"\"\"\n",
    "    def __init__(self, network_architecture, transfer_fct=tf.nn.relu, \n",
    "                 learning_rate=0.001, batch_size=100):\n",
    "        self.network_architecture = network_architecture\n",
    "        self.transfer_fct = transfer_fct\n",
    "        self.learning_rate = learning_rate\n",
    "        self.batch_size = batch_size\n",
    "        \n",
    "        # tf Graph input\n",
    "        self.x = tf.placeholder(tf.float32, [None, network_architecture[\"n_input\"]])\n",
    "        \n",
    "        # Create autoencoder network\n",
    "        self._create_network()\n",
    "        # Define loss function based variational upper-bound and \n",
    "        # corresponding optimizer\n",
    "        self._create_loss_optimizer()\n",
    "        \n",
    "        # Initializing the tensor flow variables\n",
    "        init = tf.global_variables_initializer()\n",
    "\n",
    "        # Launch the session\n",
    "        self.sess = tf.InteractiveSession()\n",
    "        self.sess.run(init)\n",
    "    \n",
    "    def _create_network(self):\n",
    "        # Initialize autoencode network weights and biases\n",
    "        network_weights = self._initialize_weights(**self.network_architecture)\n",
    "\n",
    "        # Use recognition network to determine mean and \n",
    "        # (log) variance of Gaussian distribution in latent\n",
    "        # space\n",
    "        self.z_mean, self.z_log_sigma_sq = \\\n",
    "            self._recognition_network(network_weights[\"weights_recog\"], \n",
    "                                      network_weights[\"biases_recog\"])\n",
    "\n",
    "        # Draw one sample z from Gaussian distribution\n",
    "        n_z = self.network_architecture[\"n_z\"]\n",
    "        eps = tf.random_normal((self.batch_size, n_z), 0, 1, \n",
    "                               dtype=tf.float32)\n",
    "        # z = mu + sigma*epsilon\n",
    "        self.z = tf.add(self.z_mean, \n",
    "                        tf.mul(tf.sqrt(tf.exp(self.z_log_sigma_sq)), eps))\n",
    "\n",
    "        # Use generator to determine mean of\n",
    "        # Bernoulli distribution of reconstructed input\n",
    "        self.x_reconstr_mean = \\\n",
    "            self._generator_network(network_weights[\"weights_gener\"],\n",
    "                                    network_weights[\"biases_gener\"])\n",
    "            \n",
    "    def _initialize_weights(self, n_hidden_recog, \n",
    "                            n_hidden_gener,\n",
    "                            n_input, n_z):\n",
    "        all_weights = dict()\n",
    "        all_weights['weights_recog'] = {\n",
    "            'h': tf.Variable(xavier_init(n_input, n_hidden_recog)),\n",
    "            #'h2': tf.Variable(xavier_init(n_hidden_recog_1, n_hidden_recog_2)),\n",
    "            'out_mean': tf.Variable(xavier_init(n_hidden_recog, n_z)),\n",
    "            'out_log_sigma': tf.Variable(xavier_init(n_hidden_recog, n_z))}\n",
    "        all_weights['biases_recog'] = {\n",
    "            'b': tf.Variable(tf.zeros([n_hidden_recog], dtype=tf.float32)),\n",
    "            #'b2': tf.Variable(tf.zeros([n_hidden_recog_2], dtype=tf.float32)),\n",
    "            'out_mean': tf.Variable(tf.zeros([n_z], dtype=tf.float32)),\n",
    "            'out_log_sigma': tf.Variable(tf.zeros([n_z], dtype=tf.float32))}\n",
    "        all_weights['weights_gener'] = {\n",
    "            'h': tf.Variable(xavier_init(n_z, n_hidden_gener)),\n",
    "            #'h2': tf.Variable(xavier_init(n_hidden_gener_1, n_hidden_gener_2)),\n",
    "            'out_mean': tf.Variable(xavier_init(n_hidden_gener, n_input)),\n",
    "            'out_log_sigma': tf.Variable(xavier_init(n_hidden_gener, n_input))}\n",
    "        all_weights['biases_gener'] = {\n",
    "            'b': tf.Variable(tf.zeros([n_hidden_gener], dtype=tf.float32)),\n",
    "            #'b2': tf.Variable(tf.zeros([n_hidden_gener], dtype=tf.float32)),\n",
    "            'out_mean': tf.Variable(tf.zeros([n_input], dtype=tf.float32)),\n",
    "            'out_log_sigma': tf.Variable(tf.zeros([n_input], dtype=tf.float32))}\n",
    "        return all_weights\n",
    "            \n",
    "    def _recognition_network(self, weights, biases):\n",
    "        # Generate probabilistic encoder (recognition network), which\n",
    "        # maps inputs onto a normal distribution in latent space.\n",
    "        # The transformation is parametrized and can be learned.\n",
    "        hidden_layer = self.transfer_fct(tf.add(tf.matmul(self.x, weights['h']), \n",
    "                                           biases['b'])) \n",
    "        #layer_2 = self.transfer_fct(tf.add(tf.matmul(layer_1, weights['h2']), \n",
    "                                      #     biases['b2'])) \n",
    "        z_mean = tf.add(tf.matmul(hidden_layer, weights['out_mean']),\n",
    "                        biases['out_mean'])\n",
    "        z_log_sigma_sq = \\\n",
    "            tf.add(tf.matmul(hidden_layer, weights['out_log_sigma']), \n",
    "                   biases['out_log_sigma'])\n",
    "        return (z_mean, z_log_sigma_sq)\n",
    "\n",
    "    def _generator_network(self, weights, biases):\n",
    "        # Generate probabilistic decoder (decoder network), which\n",
    "        # maps points in latent space onto a Bernoulli distribution in data space.\n",
    "        # The transformation is parametrized and can be learned.\n",
    "        hidden_layer = self.transfer_fct(tf.add(tf.matmul(self.z, weights['h']), \n",
    "                                           biases['b'])) \n",
    "        #layer_2 = self.transfer_fct(tf.add(tf.matmul(layer_1, weights['h2']), \n",
    "        #                                   biases['b2'])) \n",
    "        x_reconstr_mean = \\\n",
    "            tf.nn.sigmoid(tf.add(tf.matmul(hidden_layer, weights['out_mean']), \n",
    "                                 biases['out_mean']))\n",
    "        return x_reconstr_mean\n",
    "            \n",
    "    def _create_loss_optimizer(self):\n",
    "        # The loss is composed of two terms:\n",
    "        # 1.) The reconstruction loss (the negative log probability\n",
    "        #     of the input under the reconstructed Bernoulli distribution \n",
    "        #     induced by the decoder in the data space).\n",
    "        #     This can be interpreted as the number of \"nats\" required\n",
    "        #     for reconstructing the input when the activation in latent\n",
    "        #     is given.\n",
    "        # Adding 1e-10 to avoid evaluation of log(0.0)\n",
    "        reconstr_loss = \\\n",
    "            -tf.reduce_sum(self.x * tf.log(1e-5 + self.x_reconstr_mean)\n",
    "                           + (1-self.x) * tf.log(1e-5 + 1 - self.x_reconstr_mean),\n",
    "                           1)\n",
    "        \n",
    "        # 2.) The latent loss, which is defined as the Kullback Leibler divergence \n",
    "        ##    between the distribution in latent space induced by the encoder on \n",
    "        #     the data and some prior. This acts as a kind of regularizer.\n",
    "        #     This can be interpreted as the number of \"nats\" required\n",
    "        #     for transmitting the the latent space distribution given\n",
    "        #     the prior.\n",
    "        latent_loss = -0.5 * tf.reduce_sum(1 + self.z_log_sigma_sq \n",
    "                                           - tf.square(self.z_mean) \n",
    "                                           - tf.exp(self.z_log_sigma_sq), 1)\n",
    "        self.cost = tf.reduce_mean(reconstr_loss + latent_loss)   # average over batch\n",
    "        # Use ADAM optimizer\n",
    "        self.optimizer = \\\n",
    "            tf.train.AdamOptimizer(learning_rate=self.learning_rate).minimize(self.cost)\n",
    "        \n",
    "    def partial_fit(self, X):\n",
    "        \"\"\"Train model based on mini-batch of input data.\n",
    "        \n",
    "        Return cost of mini-batch.\n",
    "        \"\"\"\n",
    "        opt, cost = self.sess.run((self.optimizer, self.cost), \n",
    "                                  feed_dict={self.x: X})\n",
    "        return cost\n",
    "    \n",
    "    def transform(self, X):\n",
    "        \"\"\"Transform data by mapping it into the latent space.\"\"\"\n",
    "        # Note: This maps to mean of distribution, we could alternatively\n",
    "        # sample from Gaussian distribution\n",
    "        return self.sess.run(self.z_mean, feed_dict={self.x: X})\n",
    "    \n",
    "    def generate(self, z_mu=None):\n",
    "        \"\"\" Generate data by sampling from latent space.\n",
    "        \n",
    "        If z_mu is not None, data for this point in latent space is\n",
    "        generated. Otherwise, z_mu is drawn from prior in latent \n",
    "        space.        \n",
    "        \"\"\"\n",
    "        if z_mu is None:\n",
    "            z_mu = np.random.normal(size=self.network_architecture[\"n_z\"])\n",
    "        # Note: This maps to mean of distribution, we could alternatively\n",
    "        # sample from Gaussian distribution\n",
    "        return self.sess.run(self.x_reconstr_mean, \n",
    "                             feed_dict={self.z: z_mu})\n",
    "    \n",
    "    def reconstruct(self, X):\n",
    "        \"\"\" Use VAE to reconstruct given data. \"\"\"\n",
    "        return self.sess.run(self.x_reconstr_mean, \n",
    "                             feed_dict={self.x: X})\n",
    "    \n",
    "def train(network_architecture, data_batches, learning_rate=0.001,\n",
    "          batch_size=100, training_epochs=10, display_step=5):\n",
    "    vae = VariationalAutoencoder(network_architecture, \n",
    "                                 learning_rate=learning_rate, \n",
    "                                 batch_size=batch_size)\n",
    "    data_batches.batch_size = batch_size\n",
    "    # Training cycle\n",
    "    for epoch in range(training_epochs):\n",
    "        avg_cost = 0.\n",
    "        total_batch = int(n_samples / batch_size)\n",
    "        # Loop over all batches\n",
    "        for i in range(total_batch):\n",
    "            batch_xs = data_batches.get_batch()\n",
    "            \n",
    "            # Fit training using batch data\n",
    "            cost = vae.partial_fit(batch_xs)\n",
    "            \n",
    "            # Compute average loss\n",
    "            avg_cost += cost / n_samples * batch_size\n",
    "\n",
    "        # Display logs per epoch step\n",
    "        #if epoch % display_step == 0:\n",
    "         #   print(\"Epoch:\", '%04d' % (epoch+1), \n",
    "        #        \"cost=\", \"{:.9f}\".format(avg_cost))\n",
    "    return vae"
   ]
  },
  {
   "cell_type": "code",
   "execution_count": 3,
   "metadata": {
    "collapsed": false
   },
   "outputs": [],
   "source": [
    "\"\"\"Load some frb data\"\"\"\n",
    "\n",
    "with open(\"frb_datasets/w_snr_dm_nn_score.dat\") as f:\n",
    "    data_file = [[float(field) for field in line.strip().split(' ')] for line in f]\n",
    "    \n",
    "all_data = np.array(data_file, dtype=np.float32)\n",
    "\n",
    "#remove all frbs from the dataset: we only want to train the encoder on noise, in order to detect outliers \n",
    "\n",
    "non_frbs = all_data[all_data[:,-1] == 0][:,:-1]\n",
    "frbs = all_data[all_data[:,-1] == 1][:,:-1]\n",
    "    \n",
    "    "
   ]
  },
  {
   "cell_type": "code",
   "execution_count": 4,
   "metadata": {
    "collapsed": false
   },
   "outputs": [],
   "source": [
    "class batch_creator(object):\n",
    "    def __init__(self, data, batchsize = 100):\n",
    "        self.data = data\n",
    "        self.batchsize = batchsize\n",
    "        self.counter = 0 \n",
    "        self.datasize = self.data.shape[0]\n",
    "        self.generator = self.batch_iter()\n",
    "    def batch_iter(self):\n",
    "        while(True):\n",
    "            end_batch = self.counter + self.batchsize \n",
    "            yield self.data[self.counter:end_batch]\n",
    "            if end_batch > self.datasize:\n",
    "                self.counter = 0\n",
    "                np.random.shuffle(self.data)\n",
    "    def get_batch(self):\n",
    "        return self.generator.next()"
   ]
  },
  {
   "cell_type": "code",
   "execution_count": 5,
   "metadata": {
    "collapsed": false
   },
   "outputs": [
    {
     "name": "stdout",
     "output_type": "stream",
     "text": [
      "(16259, 8)\n",
      "(1639, 8)\n"
     ]
    }
   ],
   "source": [
    "#Test this out on the pulsars in htru2 \n",
    "network_architecture = dict(n_hidden_recog = 50,\n",
    "                            n_hidden_gener = 50,\n",
    "                            n_input = 8,\n",
    "                            n_z = 4)\n",
    "import sys \n",
    "sys.path.append(\"src\")\n",
    "from JACS_utils.ARFF import ARFF\n",
    "\n",
    "arff_reader = ARFF() \n",
    "\n",
    "data, classes, _ = arff_reader.read(\"datasets/htru2_period+Lyon_features.arff\")\n",
    "\n",
    "htru2 = data[:,1:] #remove period \n",
    "htru2_noise = htru2[classes == 0]\n",
    "htru2_psrs = htru2[classes == 1]\n",
    "print htru2_noise.shape\n",
    "print htru2_psrs.shape\n",
    "\n",
    "#normalise htru2 data \n",
    "for i in xrange(htru2_noise.shape[1]):\n",
    "    norm_factor = htru2_noise[:,i].max()\n",
    "    htru2_noise[:,i] /= norm_factor \n",
    "    htru2_psrs[:,i]  /= norm_factor\n",
    "\n"
   ]
  },
  {
   "cell_type": "code",
   "execution_count": 14,
   "metadata": {
    "collapsed": false
   },
   "outputs": [
    {
     "name": "stdout",
     "output_type": "stream",
     "text": [
      "0.920466162339\n",
      "0.921079533838\n",
      "0.921897362503\n",
      "0.919034962175\n",
      "0.921267893661\n"
     ]
    }
   ],
   "source": [
    "from sklearn.ensemble import IsolationForest\n",
    "from sklearn.model_selection import KFold\n",
    "from sklearn.metrics import roc_auc_score, roc_curve\n",
    "\n",
    "from sklearn.tree import DecisionTreeClassifier\n",
    "\n",
    "cv = KFold(n_splits = 5)\n",
    "\n",
    "roc_curves_ifrst = []\n",
    "roc_curve_scores_ifrst = []\n",
    "\n",
    "np.random.shuffle(htru2_noise)\n",
    "\n",
    "for train_inds, test_inds in cv.split(htru2_noise, htru2_noise):\n",
    "    #we don't have y's, so just pass htru2_noise in twice to make the function happy. \n",
    "    train_x = htru2_noise[train_inds]\n",
    "    \n",
    "    #testing set consists of noise with htru2_psrs added to it \n",
    "    test_x = np.concatenate([htru2_noise[test_inds], htru2_psrs])\n",
    "    \n",
    "    test_labels = np.array([0 for _ in test_inds] + [1 for _ in htru2_psrs])\n",
    "    \n",
    "    ifrst = IsolationForest(max_samples = 8000) \n",
    "    #original paper recommends setting this higher if\n",
    "    #training with no anomalies: this does seem to improve performance\n",
    "    ifrst.fit(train_x)\n",
    "    scores = -1 * ifrst.decision_function(test_x)\n",
    "    dt = DecisionTreeClassifier(max_depth=1) #decision stump \n",
    "    \n",
    "    dt.fit(scores.reshape(-1,1), test_labels) \n",
    "    print dt.score(scores.reshape(-1,1) , test_labels) \n",
    "    \n",
    "    roc_curves_ifrst.append(roc_curve(test_labels, scores))\n",
    "    roc_curve_scores_ifrst.append(roc_auc_score(test_labels, scores))\n",
    "    \n"
   ]
  },
  {
   "cell_type": "code",
   "execution_count": 18,
   "metadata": {
    "collapsed": false
   },
   "outputs": [],
   "source": [
    "from sklearn.tree import export_graphviz\n",
    "\n",
    "dotfile = open(\"dtree2.dot\", 'w')\n",
    "export_graphviz(dt, out_file = dotfile)\n",
    "dotfile.close()"
   ]
  },
  {
   "cell_type": "code",
   "execution_count": 7,
   "metadata": {
    "collapsed": false
   },
   "outputs": [
    {
     "data": {
      "text/plain": [
       "[<matplotlib.lines.Line2D at 0x7ff22eee19d0>]"
      ]
     },
     "execution_count": 7,
     "metadata": {},
     "output_type": "execute_result"
    },
    {
     "data": {
      "image/png": "[encoded data removed]",
      "text/plain": [
       "<matplotlib.figure.Figure at 0x7ff22535ae50>"
      ]
     },
     "metadata": {},
     "output_type": "display_data"
    }
   ],
   "source": [
    "%matplotlib inline \n",
    "for fpr, tpr, _ in roc_curves_ifrst:\n",
    "    plt.plot(fpr, tpr, linestyle = '--')\n",
    "plt.plot(np.linspace(0,1,100), np.linspace(0,1,100), linestyle = '--')"
   ]
  },
  {
   "cell_type": "code",
   "execution_count": 6,
   "metadata": {
    "collapsed": false,
    "scrolled": true
   },
   "outputs": [
    {
     "name": "stdout",
     "output_type": "stream",
     "text": [
      "[(0.93571776185663835, 0.11024506203497766), (0.93180095692953124, 0.10341863490005559), (0.93227591872437088, 0.10176441157002339), (0.93420039435439117, 0.098975794344302009), (0.93197639555608969, 0.10302169403951364)]\n"
     ]
    }
   ],
   "source": [
    "#cross val \n",
    "n_samples = htru2_noise.shape[0]\n",
    "from sklearn.model_selection import KFold \n",
    "batch_size = 100\n",
    "cv = KFold(n_splits = 5)\n",
    "average_test_deviations = []\n",
    "np.random.shuffle(htru2_noise)\n",
    "for train_inds, test_inds in cv.split(htru2_noise, htru2_noise):\n",
    "    #we don't have y's, so just pass normalised_non_frbs in twice to make the function happy. \n",
    "    train_x = htru2_noise[train_inds]\n",
    "    test_x = htru2_noise[test_inds]\n",
    "    vae = train(network_architecture, batch_creator(train_x), training_epochs = 200, batch_size=batch_size)\n",
    "    #need to pass in whole number of the batch size \n",
    "    buffer_mul = int(np.ceil(float(test_x.shape[0]) / batch_size))\n",
    "    buf = np.zeros([batch_size * buffer_mul, htru2_noise.shape[1]])\n",
    "    buf_recon = np.zeros([batch_size * buffer_mul, htru2_noise.shape[1]])\n",
    "    for i in xrange(test_x.shape[0]):\n",
    "        buf[i,:] = test_x[i,:]\n",
    "    for i in xrange(buffer_mul):\n",
    "        ind = batch_size * i\n",
    "        buf_recon[ind:ind + batch_size] = vae.reconstruct(buf[ind:ind + batch_size])\n",
    "    test_recon = buf_recon[:test_x.shape[0]]\n",
    "    scores = np.exp(- np.sum((test_recon - test_x) **2, axis = 1))\n",
    "    average_test_deviations.append( (scores.mean(), scores.std()) )\n",
    "print average_test_deviations\n",
    "\n"
   ]
  },
  {
   "cell_type": "code",
   "execution_count": 21,
   "metadata": {
    "collapsed": false
   },
   "outputs": [
    {
     "data": {
      "text/plain": [
       "<mpl_toolkits.mplot3d.art3d.Path3DCollection at 0x7f27d0380590>"
      ]
     },
     "execution_count": 21,
     "metadata": {},
     "output_type": "execute_result"
    },
    {
     "data": {
      "image/png": "[encoded data removed]",
      "text/plain": [
       "<matplotlib.figure.Figure at 0x7f27d0a48a50>"
      ]
     },
     "metadata": {},
     "output_type": "display_data"
    }
   ],
   "source": [
    "#visualise the latent space \n",
    "\n",
    "dummy = np.zeros([batch_size, htru2_noise.shape[1]])\n",
    "for i in xrange(batch_size):\n",
    "    dummy[i] = htru2_noise[i]\n",
    "\n",
    "%matplotlib inline\n",
    "\n",
    "\n",
    "random_indices = np.random.randint(htru2_noise.shape[0], size = 4000)\n",
    "latent_noise = vae.transform(htru2_noise[random_indices])\n",
    "\n",
    "random_psr_indices = np.random.randint(htru2_psrs.shape[0], size = 300)\n",
    "latent_psrs = vae.transform(htru2_psrs[random_psr_indices])\n",
    "#plt.scatter(latent_psrs[:,0], latent_psrs[:,1], color = 'red')\n",
    "#plt.scatter(latent_noise[:,0], latent_noise[:,1], color = 'blue')\n",
    "\n",
    "\n",
    "from mpl_toolkits.mplot3d import axes3d\n",
    "\n",
    "%matplotlib inline\n",
    "fig = plt.figure()\n",
    "ax = fig.add_subplot(111, projection = '3d')\n",
    "ax.hold = True\n",
    "\n",
    "\n",
    "plt_dat = np.concatenate([latent_noise,latent_psrs])\n",
    "\n",
    "plt_cols = [0 for _ in latent_noise] + [1 for _ in latent_psrs]\n",
    "\n",
    "ax.scatter(plt_dat[:,1], plt_dat[:,2], plt_dat[:,0], c = plt_cols, cmap = plt.cm.Set1)\n",
    "#ax.scatter(latent_noise[:,0], latent_noise[:,1], latent_noise[:,2])\n",
    "#ax.scatter(latent_psrs[:,0], latent_psrs[:,1], latent_psrs[:,2]) #???\n",
    "\n",
    "#looks sort of ok\n"
   ]
  },
  {
   "cell_type": "code",
   "execution_count": 8,
   "metadata": {
    "collapsed": false,
    "scrolled": true
   },
   "outputs": [
    {
     "name": "stdout",
     "output_type": "stream",
     "text": [
      "[{'noise_score_std': 0.10295013421736171, 'noise_mean_score': 0.93420998417686218, 'regression_precision': 0.88209036230804505, 'psr_mean_score': 0.44006252002612445, 'regression_f_score': 0.78741652591506828, 'percent_of_noise_for_perfect_recall': 0.24886599523333588, 'psr_score_std': 0.33429988490445561, 'regression_acc': 0.87139622272458839, 'regression_spec': 0.95172201722017213, 'regression_recall': 0.71200554472949362}, {'noise_score_std': 0.10733338317175967, 'noise_mean_score': 0.9372289700772769, 'regression_precision': 0.88321284912058096, 'psr_mean_score': 0.42126824178273486, 'regression_f_score': 0.80199351800307417, 'percent_of_noise_for_perfect_recall': 0.24863535019604829, 'psr_score_std': 0.32875376741451895, 'regression_acc': 0.87835081793321879, 'regression_spec': 0.95079950799507984, 'regression_recall': 0.73460076385122086}, {'noise_score_std': 0.11258025902955476, 'noise_mean_score': 0.93399353206206559, 'regression_precision': 0.86862032275427392, 'psr_mean_score': 0.42105766585248017, 'regression_f_score': 0.7934903293422666, 'percent_of_noise_for_perfect_recall': 0.24771277004689782, 'psr_score_std': 0.328658563441109, 'regression_acc': 0.87262447041535485, 'regression_spec': 0.94434194341943423, 'regression_recall': 0.73032949175545159}, {'noise_score_std': 0.11199031445416047, 'noise_mean_score': 0.9355254324302239, 'regression_precision': 0.87732760147548883, 'psr_mean_score': 0.42131454820229869, 'regression_f_score': 0.79733357945302863, 'percent_of_noise_for_perfect_recall': 0.24725147997232261, 'psr_score_std': 0.3287736033361599, 'regression_acc': 0.87548519921410206, 'regression_spec': 0.94833948339483387, 'regression_recall': 0.73094110845481952}, {'noise_score_std': 0.11096888793471894, 'noise_mean_score': 0.93517566991909473, 'regression_precision': 0.87432123692067687, 'psr_mean_score': 0.42126637349193224, 'regression_f_score': 0.79613373191755199, 'percent_of_noise_for_perfect_recall': 0.24777060270602708, 'psr_score_std': 0.32874028003727607, 'regression_acc': 0.87463921066317507, 'regression_spec': 0.94709300278598352, 'regression_recall': 0.73091655449973558}]\n"
     ]
    }
   ],
   "source": [
    "#take a random noise sample and compare reconstruction scores \n",
    "\n",
    "sys.path.append('src')\n",
    "from JACS_utils.ClassifierStats import ClassifierStats\n",
    "from sklearn.metrics import confusion_matrix\n",
    "from sklearn.model_selection import StratifiedKFold \n",
    "\n",
    "network_architecture = dict(n_hidden_recog = 50,\n",
    "                            n_hidden_gener = 50,\n",
    "                            n_input = 8,\n",
    "                            n_z = 3)\n",
    "\n",
    "learning_rate = 0.001\n",
    "\n",
    "n_samples = htru2_noise.shape[0]\n",
    "from sklearn.model_selection import KFold \n",
    "from sklearn.svm import LinearSVC\n",
    "batch_size = 100\n",
    "cv = KFold(n_splits = 5)\n",
    "average_test_deviations = []\n",
    "np.random.shuffle(htru2_noise)\n",
    "\n",
    "psr_buf_mul = int(np.ceil(float(htru2_psrs.shape[0]) / batch_size))\n",
    "psr_buf = np.zeros([batch_size * psr_buf_mul, htru2_psrs.shape[1]])\n",
    "psr_buf_recon = np.zeros([batch_size * psr_buf_mul, htru2_psrs.shape[1]])\n",
    "    \n",
    "for train_inds, test_inds in cv.split(htru2_noise, htru2_noise):\n",
    "    #we don't have y's, so just pass normalised_non_frbs in twice to make the function happy. \n",
    "    train_x = htru2_noise[train_inds]\n",
    "    test_x = htru2_noise[test_inds]\n",
    "    vae = train(network_architecture,\n",
    "                batch_creator(train_x),\n",
    "                training_epochs = 200,\n",
    "                batch_size=batch_size,\n",
    "                learning_rate=learning_rate)\n",
    "    #need to pass in whole number of the batch size \n",
    "    buffer_mul = int(np.ceil(float(test_x.shape[0]) / batch_size))\n",
    "    buf = np.zeros([batch_size * buffer_mul, htru2_noise.shape[1]])\n",
    "    buf_recon = np.zeros([batch_size * buffer_mul, htru2_noise.shape[1]])\n",
    "    for i in xrange(test_x.shape[0]):\n",
    "        buf[i,:] = test_x[i,:]\n",
    "    for i in xrange(buffer_mul):\n",
    "        ind = batch_size * i\n",
    "        buf_recon[ind:ind + batch_size] = vae.reconstruct(buf[ind:ind + batch_size])\n",
    "    test_recon = buf_recon[:test_x.shape[0]]\n",
    "    \n",
    "    noise_scores = np.exp(- np.sum((test_recon - test_x) **2, axis = 1))\n",
    "    \n",
    "    #get the pulsar scores \n",
    "    \n",
    "    for i in xrange(htru2_psrs.shape[0]):\n",
    "        buf[i] = htru2_psrs[i]\n",
    "    for i in xrange(psr_buf_mul):\n",
    "        ind = batch_size * i\n",
    "        psr_buf_recon[ind:ind + batch_size] = vae.reconstruct(psr_buf[ind:ind+batch_size])\n",
    "    \n",
    "    \n",
    "    psr_recon = psr_buf_recon[:htru2_psrs.shape[0]]\n",
    "    psr_scores = np.exp( - ((psr_recon - htru2_psrs) **2 ).sum(axis = 1))\n",
    "    \n",
    "    #TODO: choose a cutoff and calcluate confusion matrix \n",
    "    #choose optimal cutoff and print lowest score for a pulsar \n",
    "    \n",
    "    test_set = np.concatenate([psr_scores, noise_scores])\n",
    "    test_labels = np.array([1 for _ in psr_scores] + [0 for _ in noise_scores])\n",
    "    rand_inds = np.random.permutation(test_labels.shape[0])\n",
    "    #shuffle dataset before classifying in order to make sure the order doesn't affect it \n",
    "    test_set = test_set[rand_inds].reshape(-1,1)\n",
    "    test_labels = test_labels[rand_inds]\n",
    "    skf = StratifiedKFold()\n",
    "    acc = []\n",
    "    fscore = []\n",
    "    rec = []\n",
    "    prec = []\n",
    "    spec = []\n",
    "    for tr_inds,te_inds in skf.split(test_set, test_labels):\n",
    "        \n",
    "        x = test_set[tr_inds]\n",
    "        x_lab = test_labels[tr_inds]\n",
    "        y = test_set[te_inds]\n",
    "        y_lab = test_labels[te_inds]\n",
    "        \n",
    "        lr = LinearSVC() \n",
    "        lr.fit(x, x_lab)\n",
    "        y_pred = lr.predict(y)\n",
    "        cm = confusion_matrix(y_lab, y_pred)\n",
    "        stats = ClassifierStats(cm)\n",
    "        stats.calculate()\n",
    "        acc.append(stats.getAccuracy())\n",
    "        fscore.append(stats.getfScore())\n",
    "        rec.append(stats.getRecall())\n",
    "        prec.append(stats.getPrecision())\n",
    "        spec.append(stats.getSpecificity())\n",
    "        \n",
    "    \n",
    "    \n",
    "    worst_psr_score = psr_scores.max() \n",
    "    noise_percent_above_worst = (noise_scores < worst_psr_score).astype(np.int).sum() * (1.0 / train_x.shape[0])\n",
    "    score_dict = {\n",
    "        \"noise_mean_score\" : noise_scores.mean(),\n",
    "        \"noise_score_std\"  : noise_scores.std(),\n",
    "        \"psr_mean_score\"   : psr_scores.mean(),\n",
    "        \"psr_score_std\"    : psr_scores.std(),\n",
    "        \"percent_of_noise_for_perfect_recall\" : noise_percent_above_worst,\n",
    "        \"regression_acc\"   : np.array(acc).mean(),\n",
    "        \"regression_f_score\": np.array(fscore).mean(),\n",
    "        \"regression_recall\" : np.array(rec).mean(),\n",
    "        \"regression_precision\" : np.array(prec).mean(),\n",
    "        \"regression_spec\"    : np.array(spec).mean(),\n",
    "        \n",
    "    }\n",
    "    average_test_deviations.append( score_dict )\n",
    "print average_test_deviations\n"
   ]
  },
  {
   "cell_type": "code",
   "execution_count": 26,
   "metadata": {
    "collapsed": false
   },
   "outputs": [
    {
     "data": {
      "image/png": "[encoded data removed]",
      "text/plain": [
       "<matplotlib.figure.Figure at 0x7f27aade36d0>"
      ]
     },
     "metadata": {},
     "output_type": "display_data"
    }
   ],
   "source": [
    "\n",
    "from astroML.plotting import hist as bayes_hist\n",
    "\n",
    "\n",
    "bayes_hist(psr_scores)\n",
    "plt.show()"
   ]
  },
  {
   "cell_type": "code",
   "execution_count": 27,
   "metadata": {
    "collapsed": false
   },
   "outputs": [
    {
     "data": {
      "text/plain": [
       "(array([    7.,    14.,    25.,    35.,    56.,    35.,    52.,    82.,\n",
       "          266.,  2679.]),\n",
       " array([ 0.24330396,  0.31873824,  0.39417252,  0.4696068 ,  0.54504108,\n",
       "         0.62047536,  0.69590965,  0.77134393,  0.84677821,  0.92221249,\n",
       "         0.99764677]),\n",
       " <a list of 10 Patch objects>)"
      ]
     },
     "execution_count": 27,
     "metadata": {},
     "output_type": "execute_result"
    },
    {
     "data": {
      "image/png": "[encoded data removed]",
      "text/plain": [
       "<matplotlib.figure.Figure at 0x7f27aad77ad0>"
      ]
     },
     "metadata": {},
     "output_type": "display_data"
    }
   ],
   "source": [
    "bayes_hist(noise_scores)"
   ]
  },
  {
   "cell_type": "code",
   "execution_count": 30,
   "metadata": {
    "collapsed": false
   },
   "outputs": [
    {
     "name": "stdout",
     "output_type": "stream",
     "text": [
      "{'noise_score_std': 0.11444058161531249, 'noise_mean_score': 0.93175566158270362, 'regression_precision': 0.86787673794400255, 'psr_mean_score': 0.42620664750300369, 'regression_f_score': 0.78505856180069367, 'percent_of_noise_for_perfect_recall': 0.24725147997232261, 'psr_score_std': 0.32985521517234279, 'regression_acc': 0.86853261012664895, 'regression_spec': 0.94495694956949572, 'regression_recall': 0.71688508525802863}\n",
      "{'noise_score_std': 0.11046779202455809, 'noise_mean_score': 0.93579492859839575, 'regression_precision': 0.87649946763681508, 'psr_mean_score': 0.42673086794433568, 'regression_f_score': 0.79453294853294842, 'percent_of_noise_for_perfect_recall': 0.2485584685169524, 'psr_score_std': 0.33040982561403653, 'regression_acc': 0.87405420790186061, 'regression_spec': 0.94833948339483387, 'regression_recall': 0.72665755938150822}\n",
      "{'noise_score_std': 0.10516145380948225, 'noise_mean_score': 0.93602616361158963, 'regression_precision': 0.87786372911329524, 'psr_mean_score': 0.4271642921068749, 'regression_f_score': 0.79492370503858589, 'percent_of_noise_for_perfect_recall': 0.24732836165141847, 'psr_score_std': 0.33053362991140212, 'regression_acc': 0.87487308148989607, 'regression_spec': 0.94895448954489547, 'regression_recall': 0.72789306975778645}\n",
      "{'noise_score_std': 0.10255129935185404, 'noise_mean_score': 0.93882883252788851, 'regression_precision': 0.88625179795885545, 'psr_mean_score': 0.42710227117947747, 'regression_f_score': 0.8018498895701246, 'percent_of_noise_for_perfect_recall': 0.24763588836780195, 'psr_score_std': 0.33053386810518504, 'regression_acc': 0.87875617979359522, 'regression_spec': 0.95264452644526443, 'regression_recall': 0.73214760052054384}\n",
      "{'noise_score_std': 0.10852970498647455, 'noise_mean_score': 0.93485989267171032, 'regression_precision': 0.87233846497339806, 'psr_mean_score': 0.42731130060097489, 'regression_f_score': 0.79150521424037956, 'percent_of_noise_for_perfect_recall': 0.247539975399754, 'psr_score_std': 0.33059518169445462, 'regression_acc': 0.87198323099132791, 'regression_spec': 0.94616680238824546, 'regression_recall': 0.72483275408321113}\n",
      "0.7256832138\n",
      "0.0050150065984\n",
      "0.793574063837\n",
      "0.00544103292366\n",
      "0.873639862061\n",
      "0.0033674224148\n",
      "0.948212450269\n",
      "0.00264548744056\n"
     ]
    }
   ],
   "source": [
    "for i in average_test_deviations:\n",
    "    print i\n",
    "    \n",
    "recalls = np.array([x[\"regression_recall\"] for x in average_test_deviations])\n",
    "precision = np.array([x[\"regression_precision\"] for x in average_test_deviations])\n",
    "fscore = np.array([x[\"regression_f_score\"] for x in average_test_deviations])\n",
    "acc = np.array([x[\"regression_acc\"] for x in average_test_deviations])\n",
    "spec  = np.array([x[\"regression_spec\"] for x in average_test_deviations])\n",
    "\n",
    "print recalls.mean()\n",
    "print recalls.std()\n",
    "\n",
    "print fscore.mean()\n",
    "print fscore.std()\n",
    "\n",
    "print acc.mean()\n",
    "print acc.std()\n",
    "\n",
    "print spec.mean()\n",
    "print spec.std()"
   ]
  },
  {
   "cell_type": "code",
   "execution_count": 9,
   "metadata": {
    "collapsed": false
   },
   "outputs": [
    {
     "data": {
      "text/plain": [
       "SVC(C=1.0, cache_size=200, class_weight=None, coef0=0.0,\n",
       "  decision_function_shape=None, degree=3, gamma='auto', kernel='rbf',\n",
       "  max_iter=-1, probability=True, random_state=None, shrinking=True,\n",
       "  tol=0.001, verbose=False)"
      ]
     },
     "execution_count": 9,
     "metadata": {},
     "output_type": "execute_result"
    }
   ],
   "source": [
    "from sklearn.svm import SVC\n",
    "from sklearn.model_selection import StratifiedKFold \n",
    "from random import choice\n",
    "skf = StratifiedKFold() \n",
    "\n",
    "#choose a single random split to plot the ROC curve \n",
    "split = choice(list(skf.split(htru2, classes)))\n",
    "\n",
    "htru_train = htru2[split[0]]\n",
    "htru_train_lab = classes[split[0]]\n",
    "htru_test = htru2[split[1]]\n",
    "htru_test_lab = classes[split[1]]\n",
    "\n",
    "svc = SVC(probability = True)\n",
    "\n",
    "svc.fit(htru_train, htru_train_lab)\n"
   ]
  },
  {
   "cell_type": "code",
   "execution_count": 82,
   "metadata": {
    "collapsed": false
   },
   "outputs": [
    {
     "data": {
      "text/plain": [
       "array([[ 0.98495436,  0.01504564],\n",
       "       [ 0.81060659,  0.18939341],\n",
       "       [ 0.985665  ,  0.014335  ],\n",
       "       ..., \n",
       "       [ 0.77118387,  0.22881613],\n",
       "       [ 0.9893895 ,  0.0106105 ],\n",
       "       [ 0.96452909,  0.03547091]])"
      ]
     },
     "execution_count": 82,
     "metadata": {},
     "output_type": "execute_result"
    }
   ],
   "source": []
  },
  {
   "cell_type": "code",
   "execution_count": 10,
   "metadata": {
    "collapsed": false
   },
   "outputs": [
    {
     "name": "stdout",
     "output_type": "stream",
     "text": [
      "ROC Score for autoencoder: 0.933071703286\n",
      "ROC score for best single feature: 0.88480616602\n",
      "ROC score for SVC: 0.931500006422\n"
     ]
    },
    {
     "data": {
      "text/plain": [
       "<matplotlib.text.Text at 0x7ff222f2e5d0>"
      ]
     },
     "execution_count": 10,
     "metadata": {},
     "output_type": "execute_result"
    },
    {
     "data": {
      "image/png": "[encoded data removed]",
      "text/plain": [
       "<matplotlib.figure.Figure at 0x7ff222f2f450>"
      ]
     },
     "metadata": {},
     "output_type": "display_data"
    }
   ],
   "source": [
    "\n",
    "\n",
    "from sklearn.metrics import roc_curve, roc_auc_score \n",
    "\n",
    "fpr, tpr, thresholds = roc_curve(test_labels, 1 - test_set[:,0], pos_label=1)\n",
    "plt.plot(fpr, tpr)\n",
    "\n",
    "print \"ROC Score for autoencoder: {}\".format(roc_auc_score(test_labels, 1- test_set[:,0]))\n",
    "\n",
    "fpr_best_f, tpr_best_f, thresholds = roc_curve(classes, - htru2[:,6], pos_label=1)\n",
    "plt.plot(fpr_best_f, tpr_best_f, color = 'red')\n",
    "print \"ROC score for best single feature: {}\".format(roc_auc_score(classes, -htru2[:,6]))\n",
    "\n",
    "svc_probs = svc.predict_proba(htru_test)[:,1] #prob its a pulsar\n",
    "fpr_svc, tpr_svc, thresholds = roc_curve(htru_test_lab, svc_probs, pos_label=1)\n",
    "plt.plot(fpr_svc, tpr_svc, color = 'green')\n",
    "print \"ROC score for SVC: {}\".format(roc_auc_score(htru_test_lab, svc_probs))\n",
    "\n",
    "for fpr, tpr, _ in roc_curves_ifrst:\n",
    "    plt.plot(fpr, tpr, linestyle = '--')\n",
    "\n",
    "plt.plot(np.linspace(0,1,100), np.linspace(0,1,100), linestyle = '--', color='k')\n",
    "plt.xlabel('FPR')\n",
    "plt.ylabel('TPR')\n",
    "\n"
   ]
  },
  {
   "cell_type": "code",
   "execution_count": 90,
   "metadata": {
    "collapsed": false
   },
   "outputs": [
    {
     "data": {
      "text/plain": [
       "(5967, 8)"
      ]
     },
     "execution_count": 90,
     "metadata": {},
     "output_type": "execute_result"
    }
   ],
   "source": [
    "htru_test_lab.shape"
   ]
  },
  {
   "cell_type": "code",
   "execution_count": 75,
   "metadata": {
    "collapsed": false
   },
   "outputs": [
    {
     "data": {
      "text/plain": [
       "[<matplotlib.lines.Line2D at 0x7faa0c5c72d0>]"
      ]
     },
     "execution_count": 75,
     "metadata": {},
     "output_type": "execute_result"
    },
    {
     "data": {
      "image/png": "[encoded data removed]",
      "text/plain": [
       "<matplotlib.figure.Figure at 0x7faa0c798610>"
      ]
     },
     "metadata": {},
     "output_type": "display_data"
    }
   ],
   "source": [
    "#compare this to the single best feature in HTRU2 \n",
    "fpr, tpr, thresholds = roc_curve(classes, - htru2[:,6], pos_label=1)\n",
    "plt.plot(fpr, tpr)"
   ]
  },
  {
   "cell_type": "code",
   "execution_count": 30,
   "metadata": {
    "collapsed": false
   },
   "outputs": [],
   "source": [
    "network_architecture = dict(n_hidden_recog = 50,\n",
    "                        #n_hidden_recog_2 = 50,\n",
    "                        n_hidden_gener = 50,\n",
    "                        #n_hidden_gener_2 = 50,\n",
    "                        n_input = 4,\n",
    "                        n_z = 1)\n",
    "n_samples = non_frbs.shape[0]\n",
    "\n",
    "#normalise frbs so each has mean one \n",
    "normalised_frbs = np.copy(frbs)\n",
    "normalised_non_frbs = np.copy(non_frbs)\n",
    "\n",
    "for i in xrange(normalised_non_frbs.shape[1]):\n",
    "    norm_factor = np.max(normalised_non_frbs[:,i])\n",
    "    normalised_non_frbs[:,i] /= norm_factor\n",
    "    normalised_frbs[:,i] /= norm_factor\n",
    "vae = train(network_architecture, batch_creator(normalised_non_frbs), training_epochs = 200)"
   ]
  },
  {
   "cell_type": "code",
   "execution_count": 22,
   "metadata": {
    "collapsed": false,
    "scrolled": true
   },
   "outputs": [
    {
     "name": "stdout",
     "output_type": "stream",
     "text": [
      "('Epoch:', '0001', 'cost=', '2.398887294')\n",
      "('Epoch:', '0006', 'cost=', '1.739079019')\n",
      "('Epoch:', '0011', 'cost=', '1.739079268')\n",
      "('Epoch:', '0016', 'cost=', '1.739186403')\n",
      "('Epoch:', '0021', 'cost=', '1.739086027')\n",
      "('Epoch:', '0026', 'cost=', '1.739122387')\n",
      "('Epoch:', '0031', 'cost=', '1.739158699')\n",
      "('Epoch:', '0036', 'cost=', '1.739217436')\n",
      "('Epoch:', '0041', 'cost=', '1.739010178')\n",
      "('Epoch:', '0046', 'cost=', '1.739077567')\n",
      "('Epoch:', '0051', 'cost=', '1.739047716')\n",
      "('Epoch:', '0056', 'cost=', '1.738982427')\n",
      "('Epoch:', '0061', 'cost=', '1.739084163')\n",
      "('Epoch:', '0066', 'cost=', '1.739215866')\n",
      "('Epoch:', '0071', 'cost=', '1.739197975')\n",
      "('Epoch:', '0076', 'cost=', '1.739118082')\n",
      "('Epoch:', '0081', 'cost=', '1.739175517')\n",
      "('Epoch:', '0086', 'cost=', '1.739095547')\n",
      "('Epoch:', '0091', 'cost=', '1.738660365')\n",
      "('Epoch:', '0096', 'cost=', '1.739000729')\n",
      "('Epoch:', '0101', 'cost=', '1.738973893')\n",
      "('Epoch:', '0106', 'cost=', '1.739129602')\n",
      "('Epoch:', '0111', 'cost=', '1.739050769')\n",
      "('Epoch:', '0116', 'cost=', '1.738997210')\n",
      "('Epoch:', '0121', 'cost=', '1.739087474')\n",
      "('Epoch:', '0126', 'cost=', '1.739053476')\n",
      "('Epoch:', '0131', 'cost=', '1.739019042')\n",
      "('Epoch:', '0136', 'cost=', '1.738819759')\n",
      "('Epoch:', '0141', 'cost=', '1.739051131')\n",
      "('Epoch:', '0146', 'cost=', '1.739011095')\n",
      "('Epoch:', '0151', 'cost=', '1.739144671')\n",
      "('Epoch:', '0156', 'cost=', '1.739030602')\n",
      "('Epoch:', '0161', 'cost=', '1.739173230')\n",
      "('Epoch:', '0166', 'cost=', '1.739046629')\n",
      "('Epoch:', '0171', 'cost=', '1.738967668')\n",
      "('Epoch:', '0176', 'cost=', '1.739023960')\n",
      "('Epoch:', '0181', 'cost=', '1.739088729')\n",
      "('Epoch:', '0186', 'cost=', '1.738966898')\n",
      "('Epoch:', '0191', 'cost=', '1.739090555')\n",
      "('Epoch:', '0196', 'cost=', '1.739000745')\n",
      "('Epoch:', '0001', 'cost=', '1.853204603')\n",
      "('Epoch:', '0006', 'cost=', '1.680869290')\n",
      "('Epoch:', '0011', 'cost=', '1.680842561')\n",
      "('Epoch:', '0016', 'cost=', '1.680876021')\n",
      "('Epoch:', '0021', 'cost=', '1.680809826')\n",
      "('Epoch:', '0026', 'cost=', '1.680714631')\n",
      "('Epoch:', '0031', 'cost=', '1.680707002')\n",
      "('Epoch:', '0036', 'cost=', '1.680819721')\n",
      "('Epoch:', '0041', 'cost=', '1.680715567')\n",
      "('Epoch:', '0046', 'cost=', '1.680675943')\n",
      "('Epoch:', '0051', 'cost=', '1.680846453')\n",
      "('Epoch:', '0056', 'cost=', '1.680807897')\n",
      "('Epoch:', '0061', 'cost=', '1.680795556')\n",
      "('Epoch:', '0066', 'cost=', '1.680723405')\n",
      "('Epoch:', '0071', 'cost=', '1.680787509')\n",
      "('Epoch:', '0076', 'cost=', '1.680694971')\n",
      "('Epoch:', '0081', 'cost=', '1.680798599')\n",
      "('Epoch:', '0086', 'cost=', '1.680774013')\n",
      "('Epoch:', '0091', 'cost=', '1.680733669')\n",
      "('Epoch:', '0096', 'cost=', '1.680764307')\n",
      "('Epoch:', '0101', 'cost=', '1.680744090')\n",
      "('Epoch:', '0106', 'cost=', '1.680800564')\n",
      "('Epoch:', '0111', 'cost=', '1.680762677')\n",
      "('Epoch:', '0116', 'cost=', '1.680731427')\n",
      "('Epoch:', '0121', 'cost=', '1.680766915')\n",
      "('Epoch:', '0126', 'cost=', '1.680702625')\n",
      "('Epoch:', '0131', 'cost=', '1.680824836')\n",
      "('Epoch:', '0136', 'cost=', '1.680840214')\n",
      "('Epoch:', '0141', 'cost=', '1.680700687')\n",
      "('Epoch:', '0146', 'cost=', '1.680754323')\n",
      "('Epoch:', '0151', 'cost=', '1.680769757')\n",
      "('Epoch:', '0156', 'cost=', '1.680775105')\n",
      "('Epoch:', '0161', 'cost=', '1.680704398')\n",
      "('Epoch:', '0166', 'cost=', '1.680607800')\n",
      "('Epoch:', '0171', 'cost=', '1.680737646')\n",
      "('Epoch:', '0176', 'cost=', '1.680705345')\n",
      "('Epoch:', '0181', 'cost=', '1.680804615')\n",
      "('Epoch:', '0186', 'cost=', '1.680733649')\n",
      "('Epoch:', '0191', 'cost=', '1.680785668')\n",
      "('Epoch:', '0196', 'cost=', '1.680744929')\n",
      "('Epoch:', '0001', 'cost=', '2.060231127')\n",
      "('Epoch:', '0006', 'cost=', '1.680953086')\n",
      "('Epoch:', '0011', 'cost=', '1.680740745')\n",
      "('Epoch:', '0016', 'cost=', '1.680845055')\n",
      "('Epoch:', '0021', 'cost=', '1.680781548')\n",
      "('Epoch:', '0026', 'cost=', '1.680828016')\n",
      "('Epoch:', '0031', 'cost=', '1.680843960')\n",
      "('Epoch:', '0036', 'cost=', '1.680753851')\n",
      "('Epoch:', '0041', 'cost=', '1.680774798')\n",
      "('Epoch:', '0046', 'cost=', '1.680838978')\n",
      "('Epoch:', '0051', 'cost=', '1.680742084')\n",
      "('Epoch:', '0056', 'cost=', '1.680809405')\n",
      "('Epoch:', '0061', 'cost=', '1.680772605')\n",
      "('Epoch:', '0066', 'cost=', '1.680827552')\n",
      "('Epoch:', '0071', 'cost=', '1.680736832')\n",
      "('Epoch:', '0076', 'cost=', '1.680804271')\n",
      "('Epoch:', '0081', 'cost=', '1.680835994')\n",
      "('Epoch:', '0086', 'cost=', '1.680807339')\n",
      "('Epoch:', '0091', 'cost=', '1.680853270')\n",
      "('Epoch:', '0096', 'cost=', '1.680869069')\n",
      "('Epoch:', '0101', 'cost=', '1.680793092')\n",
      "('Epoch:', '0106', 'cost=', '1.680831462')\n",
      "('Epoch:', '0111', 'cost=', '1.680807810')\n",
      "('Epoch:', '0116', 'cost=', '1.680759747')\n",
      "('Epoch:', '0121', 'cost=', '1.680665185')\n",
      "('Epoch:', '0126', 'cost=', '1.680854532')\n",
      "('Epoch:', '0131', 'cost=', '1.680755607')\n",
      "('Epoch:', '0136', 'cost=', '1.680778974')\n",
      "('Epoch:', '0141', 'cost=', '1.680765538')\n",
      "('Epoch:', '0146', 'cost=', '1.680600494')\n",
      "('Epoch:', '0151', 'cost=', '1.680801987')\n",
      "('Epoch:', '0156', 'cost=', '1.680635395')\n",
      "('Epoch:', '0161', 'cost=', '1.680709392')\n",
      "('Epoch:', '0166', 'cost=', '1.680744158')\n",
      "('Epoch:', '0171', 'cost=', '1.680869903')\n",
      "('Epoch:', '0176', 'cost=', '1.680785443')\n",
      "('Epoch:', '0181', 'cost=', '1.680785435')\n",
      "('Epoch:', '0186', 'cost=', '1.680703757')\n",
      "('Epoch:', '0191', 'cost=', '1.680723832')\n",
      "('Epoch:', '0196', 'cost=', '1.680716083')\n",
      "('Epoch:', '0001', 'cost=', '1.990633875')\n",
      "('Epoch:', '0006', 'cost=', '1.680776821')\n",
      "('Epoch:', '0011', 'cost=', '1.680866737')\n",
      "('Epoch:', '0016', 'cost=', '1.680717131')\n",
      "('Epoch:', '0021', 'cost=', '1.680661729')\n",
      "('Epoch:', '0026', 'cost=', '1.680753380')\n",
      "('Epoch:', '0031', 'cost=', '1.680801516')\n",
      "('Epoch:', '0036', 'cost=', '1.680671141')\n",
      "('Epoch:', '0041', 'cost=', '1.680861746')\n",
      "('Epoch:', '0046', 'cost=', '1.680853476')\n",
      "('Epoch:', '0051', 'cost=', '1.680813367')\n",
      "('Epoch:', '0056', 'cost=', '1.680948406')\n",
      "('Epoch:', '0061', 'cost=', '1.680786093')\n",
      "('Epoch:', '0066', 'cost=', '1.680755074')\n",
      "('Epoch:', '0071', 'cost=', '1.680762448')\n",
      "('Epoch:', '0076', 'cost=', '1.680714057')\n",
      "('Epoch:', '0081', 'cost=', '1.680724728')\n",
      "('Epoch:', '0086', 'cost=', '1.680788901')\n",
      "('Epoch:', '0091', 'cost=', '1.680893929')\n",
      "('Epoch:', '0096', 'cost=', '1.680797903')\n",
      "('Epoch:', '0101', 'cost=', '1.680797529')\n",
      "('Epoch:', '0106', 'cost=', '1.680753794')\n",
      "('Epoch:', '0111', 'cost=', '1.680678862')\n",
      "('Epoch:', '0116', 'cost=', '1.680783570')\n",
      "('Epoch:', '0121', 'cost=', '1.680567494')\n",
      "('Epoch:', '0126', 'cost=', '1.680782501')\n",
      "('Epoch:', '0131', 'cost=', '1.680807512')\n",
      "('Epoch:', '0136', 'cost=', '1.680779174')\n",
      "('Epoch:', '0141', 'cost=', '1.680714448')\n",
      "('Epoch:', '0146', 'cost=', '1.680774385')\n",
      "('Epoch:', '0151', 'cost=', '1.680667515')\n",
      "('Epoch:', '0156', 'cost=', '1.680610821')\n",
      "('Epoch:', '0161', 'cost=', '1.680693546')\n",
      "('Epoch:', '0166', 'cost=', '1.680795559')\n",
      "('Epoch:', '0171', 'cost=', '1.680630613')\n",
      "('Epoch:', '0176', 'cost=', '1.680758410')\n",
      "('Epoch:', '0181', 'cost=', '1.680724802')\n",
      "('Epoch:', '0186', 'cost=', '1.680736096')\n",
      "('Epoch:', '0191', 'cost=', '1.680788782')\n",
      "('Epoch:', '0196', 'cost=', '1.680745626')\n",
      "('Epoch:', '0001', 'cost=', '2.615183318')\n",
      "('Epoch:', '0006', 'cost=', '1.681901361')\n",
      "('Epoch:', '0011', 'cost=', '1.680973402')\n",
      "('Epoch:', '0016', 'cost=', '1.680790636')\n",
      "('Epoch:', '0021', 'cost=', '1.680817630')\n",
      "('Epoch:', '0026', 'cost=', '1.680883704')\n",
      "('Epoch:', '0031', 'cost=', '1.680875418')\n",
      "('Epoch:', '0036', 'cost=', '1.680847609')\n",
      "('Epoch:', '0041', 'cost=', '1.680889598')\n",
      "('Epoch:', '0046', 'cost=', '1.680642730')\n",
      "('Epoch:', '0051', 'cost=', '1.680934959')\n",
      "('Epoch:', '0056', 'cost=', '1.680914417')\n",
      "('Epoch:', '0061', 'cost=', '1.680834746')\n",
      "('Epoch:', '0066', 'cost=', '1.680887205')\n",
      "('Epoch:', '0071', 'cost=', '1.680800731')\n",
      "('Epoch:', '0076', 'cost=', '1.680763630')\n",
      "('Epoch:', '0081', 'cost=', '1.680946920')\n",
      "('Epoch:', '0086', 'cost=', '1.680808131')\n",
      "('Epoch:', '0091', 'cost=', '1.680835775')\n",
      "('Epoch:', '0096', 'cost=', '1.680755394')\n",
      "('Epoch:', '0101', 'cost=', '1.680909619')\n",
      "('Epoch:', '0106', 'cost=', '1.680895132')\n",
      "('Epoch:', '0111', 'cost=', '1.680706940')\n",
      "('Epoch:', '0116', 'cost=', '1.680828684')\n",
      "('Epoch:', '0121', 'cost=', '1.680777896')\n",
      "('Epoch:', '0126', 'cost=', '1.680820121')\n",
      "('Epoch:', '0131', 'cost=', '1.680771213')\n",
      "('Epoch:', '0136', 'cost=', '1.680802142')\n",
      "('Epoch:', '0141', 'cost=', '1.680830093')\n",
      "('Epoch:', '0146', 'cost=', '1.680767633')\n",
      "('Epoch:', '0151', 'cost=', '1.680702376')\n",
      "('Epoch:', '0156', 'cost=', '1.680752341')\n",
      "('Epoch:', '0161', 'cost=', '1.680777425')\n",
      "('Epoch:', '0166', 'cost=', '1.680660579')\n",
      "('Epoch:', '0171', 'cost=', '1.680782036')\n",
      "('Epoch:', '0176', 'cost=', '1.680717402')\n",
      "('Epoch:', '0181', 'cost=', '1.680787595')\n",
      "('Epoch:', '0186', 'cost=', '1.680740405')\n",
      "('Epoch:', '0191', 'cost=', '1.680778191')\n",
      "('Epoch:', '0196', 'cost=', '1.680655070')\n",
      "('Epoch:', '0001', 'cost=', '2.333915245')\n",
      "('Epoch:', '0006', 'cost=', '1.680802940')\n",
      "('Epoch:', '0011', 'cost=', '1.680793646')\n",
      "('Epoch:', '0016', 'cost=', '1.680752844')\n",
      "('Epoch:', '0021', 'cost=', '1.680905494')\n",
      "('Epoch:', '0026', 'cost=', '1.680856185')\n",
      "('Epoch:', '0031', 'cost=', '1.680854016')\n",
      "('Epoch:', '0036', 'cost=', '1.680806066')\n",
      "('Epoch:', '0041', 'cost=', '1.680708326')\n",
      "('Epoch:', '0046', 'cost=', '1.680767842')\n",
      "('Epoch:', '0051', 'cost=', '1.680938743')\n",
      "('Epoch:', '0056', 'cost=', '1.680739875')\n",
      "('Epoch:', '0061', 'cost=', '1.680838756')\n",
      "('Epoch:', '0066', 'cost=', '1.680722229')\n",
      "('Epoch:', '0071', 'cost=', '1.680746120')\n",
      "('Epoch:', '0076', 'cost=', '1.680704680')\n",
      "('Epoch:', '0081', 'cost=', '1.680846420')\n",
      "('Epoch:', '0086', 'cost=', '1.680760810')\n",
      "('Epoch:', '0091', 'cost=', '1.680791088')\n",
      "('Epoch:', '0096', 'cost=', '1.680818569')\n",
      "('Epoch:', '0101', 'cost=', '1.680759824')\n",
      "('Epoch:', '0106', 'cost=', '1.680896177')\n",
      "('Epoch:', '0111', 'cost=', '1.680899701')\n",
      "('Epoch:', '0116', 'cost=', '1.680795003')\n",
      "('Epoch:', '0121', 'cost=', '1.680718768')\n",
      "('Epoch:', '0126', 'cost=', '1.680772021')\n",
      "('Epoch:', '0131', 'cost=', '1.680803109')\n",
      "('Epoch:', '0136', 'cost=', '1.680752826')\n",
      "('Epoch:', '0141', 'cost=', '1.680768207')\n",
      "('Epoch:', '0146', 'cost=', '1.680622084')\n",
      "('Epoch:', '0151', 'cost=', '1.680682197')\n",
      "('Epoch:', '0156', 'cost=', '1.680753621')\n",
      "('Epoch:', '0161', 'cost=', '1.680784228')\n",
      "('Epoch:', '0166', 'cost=', '1.680745961')\n",
      "('Epoch:', '0171', 'cost=', '1.680685977')\n",
      "('Epoch:', '0176', 'cost=', '1.680679711')\n",
      "('Epoch:', '0181', 'cost=', '1.680783180')\n",
      "('Epoch:', '0186', 'cost=', '1.680824442')\n",
      "('Epoch:', '0191', 'cost=', '1.680693102')\n",
      "('Epoch:', '0196', 'cost=', '1.680724044')\n",
      "('Epoch:', '0001', 'cost=', '2.632063161')\n",
      "('Epoch:', '0006', 'cost=', '1.680854331')\n",
      "('Epoch:', '0011', 'cost=', '1.680706603')\n",
      "('Epoch:', '0016', 'cost=', '1.680684975')\n",
      "('Epoch:', '0021', 'cost=', '1.680914885')\n",
      "('Epoch:', '0026', 'cost=', '1.680724044')\n",
      "('Epoch:', '0031', 'cost=', '1.680716553')\n",
      "('Epoch:', '0036', 'cost=', '1.680930062')\n",
      "('Epoch:', '0041', 'cost=', '1.680821671')\n",
      "('Epoch:', '0046', 'cost=', '1.680785597')\n",
      "('Epoch:', '0051', 'cost=', '1.680665351')\n",
      "('Epoch:', '0056', 'cost=', '1.680717138')\n",
      "('Epoch:', '0061', 'cost=', '1.680786912')\n",
      "('Epoch:', '0066', 'cost=', '1.680821875')\n",
      "('Epoch:', '0071', 'cost=', '1.680832802')\n",
      "('Epoch:', '0076', 'cost=', '1.680900519')\n",
      "('Epoch:', '0081', 'cost=', '1.680920931')\n",
      "('Epoch:', '0086', 'cost=', '1.680858249')\n",
      "('Epoch:', '0091', 'cost=', '1.680705500')\n",
      "('Epoch:', '0096', 'cost=', '1.680800006')\n",
      "('Epoch:', '0101', 'cost=', '1.680842378')\n",
      "('Epoch:', '0106', 'cost=', '1.680770473')\n",
      "('Epoch:', '0111', 'cost=', '1.680780886')\n",
      "('Epoch:', '0116', 'cost=', '1.680729949')\n",
      "('Epoch:', '0121', 'cost=', '1.680687565')\n",
      "('Epoch:', '0126', 'cost=', '1.680773899')\n",
      "('Epoch:', '0131', 'cost=', '1.680942095')\n",
      "('Epoch:', '0136', 'cost=', '1.680772183')\n",
      "('Epoch:', '0141', 'cost=', '1.680764922')\n",
      "('Epoch:', '0146', 'cost=', '1.680757068')\n",
      "('Epoch:', '0151', 'cost=', '1.680775551')\n",
      "('Epoch:', '0156', 'cost=', '1.680822379')\n",
      "('Epoch:', '0161', 'cost=', '1.680740914')\n",
      "('Epoch:', '0166', 'cost=', '1.680824356')\n",
      "('Epoch:', '0171', 'cost=', '1.680767271')\n",
      "('Epoch:', '0176', 'cost=', '1.680764745')\n",
      "('Epoch:', '0181', 'cost=', '1.680823208')\n",
      "('Epoch:', '0186', 'cost=', '1.680770884')\n",
      "('Epoch:', '0191', 'cost=', '1.680736902')\n",
      "('Epoch:', '0196', 'cost=', '1.680734628')\n",
      "('Epoch:', '0001', 'cost=', '1.799516328')\n",
      "('Epoch:', '0006', 'cost=', '1.680920363')\n",
      "('Epoch:', '0011', 'cost=', '1.680717578')\n",
      "('Epoch:', '0016', 'cost=', '1.680767944')\n",
      "('Epoch:', '0021', 'cost=', '1.680767932')\n",
      "('Epoch:', '0026', 'cost=', '1.680739590')\n",
      "('Epoch:', '0031', 'cost=', '1.680880771')\n",
      "('Epoch:', '0036', 'cost=', '1.680834172')\n",
      "('Epoch:', '0041', 'cost=', '1.680900197')\n",
      "('Epoch:', '0046', 'cost=', '1.680749740')\n",
      "('Epoch:', '0051', 'cost=', '1.680841128')\n",
      "('Epoch:', '0056', 'cost=', '1.680878010')\n",
      "('Epoch:', '0061', 'cost=', '1.680835739')\n",
      "('Epoch:', '0066', 'cost=', '1.680729384')\n",
      "('Epoch:', '0071', 'cost=', '1.680860697')\n",
      "('Epoch:', '0076', 'cost=', '1.680802953')\n",
      "('Epoch:', '0081', 'cost=', '1.680755618')\n",
      "('Epoch:', '0086', 'cost=', '1.680771446')\n",
      "('Epoch:', '0091', 'cost=', '1.680813798')\n",
      "('Epoch:', '0096', 'cost=', '1.680749743')\n",
      "('Epoch:', '0101', 'cost=', '1.680798667')\n",
      "('Epoch:', '0106', 'cost=', '1.680560837')\n",
      "('Epoch:', '0111', 'cost=', '1.680707140')\n",
      "('Epoch:', '0116', 'cost=', '1.680758394')\n",
      "('Epoch:', '0121', 'cost=', '1.680698183')\n",
      "('Epoch:', '0126', 'cost=', '1.680754142')\n",
      "('Epoch:', '0131', 'cost=', '1.680554153')\n",
      "('Epoch:', '0136', 'cost=', '1.680826824')\n",
      "('Epoch:', '0141', 'cost=', '1.680826203')\n",
      "('Epoch:', '0146', 'cost=', '1.680746583')\n",
      "('Epoch:', '0151', 'cost=', '1.680764141')\n",
      "('Epoch:', '0156', 'cost=', '1.680560063')\n",
      "('Epoch:', '0161', 'cost=', '1.680766734')\n",
      "('Epoch:', '0166', 'cost=', '1.680656975')\n",
      "('Epoch:', '0171', 'cost=', '1.680763288')\n",
      "('Epoch:', '0176', 'cost=', '1.680620283')\n",
      "('Epoch:', '0181', 'cost=', '1.680844646')\n",
      "('Epoch:', '0186', 'cost=', '1.680701552')\n",
      "('Epoch:', '0191', 'cost=', '1.680785376')\n",
      "('Epoch:', '0196', 'cost=', '1.680786983')\n",
      "('Epoch:', '0001', 'cost=', '1.831979569')\n",
      "('Epoch:', '0006', 'cost=', '1.680745648')\n",
      "('Epoch:', '0011', 'cost=', '1.680808750')\n",
      "('Epoch:', '0016', 'cost=', '1.680793154')\n",
      "('Epoch:', '0021', 'cost=', '1.680784827')\n",
      "('Epoch:', '0026', 'cost=', '1.680832687')\n",
      "('Epoch:', '0031', 'cost=', '1.680804959')\n",
      "('Epoch:', '0036', 'cost=', '1.680731800')\n",
      "('Epoch:', '0041', 'cost=', '1.680811906')\n",
      "('Epoch:', '0046', 'cost=', '1.680668855')\n",
      "('Epoch:', '0051', 'cost=', '1.680752547')\n",
      "('Epoch:', '0056', 'cost=', '1.680793402')\n",
      "('Epoch:', '0061', 'cost=', '1.680755750')\n",
      "('Epoch:', '0066', 'cost=', '1.680754961')\n",
      "('Epoch:', '0071', 'cost=', '1.680846573')\n",
      "('Epoch:', '0076', 'cost=', '1.680859704')\n",
      "('Epoch:', '0081', 'cost=', '1.680749969')\n",
      "('Epoch:', '0086', 'cost=', '1.680730199')\n",
      "('Epoch:', '0091', 'cost=', '1.680635588')\n",
      "('Epoch:', '0096', 'cost=', '1.680881405')\n",
      "('Epoch:', '0101', 'cost=', '1.680844970')\n",
      "('Epoch:', '0106', 'cost=', '1.680774754')\n",
      "('Epoch:', '0111', 'cost=', '1.680754830')\n",
      "('Epoch:', '0116', 'cost=', '1.680794992')\n",
      "('Epoch:', '0121', 'cost=', '1.680761140')\n",
      "('Epoch:', '0126', 'cost=', '1.680827114')\n",
      "('Epoch:', '0131', 'cost=', '1.680806973')\n",
      "('Epoch:', '0136', 'cost=', '1.680769847')\n",
      "('Epoch:', '0141', 'cost=', '1.680800262')\n",
      "('Epoch:', '0146', 'cost=', '1.680745504')\n",
      "('Epoch:', '0151', 'cost=', '1.680702221')\n",
      "('Epoch:', '0156', 'cost=', '1.680718307')\n",
      "('Epoch:', '0161', 'cost=', '1.680578113')\n",
      "('Epoch:', '0166', 'cost=', '1.680672152')\n",
      "('Epoch:', '0171', 'cost=', '1.680786845')\n",
      "('Epoch:', '0176', 'cost=', '1.680820948')\n",
      "('Epoch:', '0181', 'cost=', '1.680819991')\n",
      "('Epoch:', '0186', 'cost=', '1.680657489')\n",
      "('Epoch:', '0191', 'cost=', '1.680729653')\n",
      "('Epoch:', '0196', 'cost=', '1.680781631')\n",
      "('Epoch:', '0001', 'cost=', '1.929231178')\n",
      "('Epoch:', '0006', 'cost=', '1.680746386')\n",
      "('Epoch:', '0011', 'cost=', '1.680787553')\n",
      "('Epoch:', '0016', 'cost=', '1.680738090')\n",
      "('Epoch:', '0021', 'cost=', '1.680777271')\n",
      "('Epoch:', '0026', 'cost=', '1.680811244')\n",
      "('Epoch:', '0031', 'cost=', '1.680700402')\n",
      "('Epoch:', '0036', 'cost=', '1.680679291')\n",
      "('Epoch:', '0041', 'cost=', '1.680827885')\n",
      "('Epoch:', '0046', 'cost=', '1.680843660')\n",
      "('Epoch:', '0051', 'cost=', '1.680830782')\n",
      "('Epoch:', '0056', 'cost=', '1.680829620')\n",
      "('Epoch:', '0061', 'cost=', '1.680862084')\n",
      "('Epoch:', '0066', 'cost=', '1.680774664')\n",
      "('Epoch:', '0071', 'cost=', '1.680993883')\n",
      "('Epoch:', '0076', 'cost=', '1.680674004')\n",
      "('Epoch:', '0081', 'cost=', '1.680760879')\n",
      "('Epoch:', '0086', 'cost=', '1.680896009')\n",
      "('Epoch:', '0091', 'cost=', '1.680917479')\n",
      "('Epoch:', '0096', 'cost=', '1.680809666')\n",
      "('Epoch:', '0101', 'cost=', '1.680892945')\n",
      "('Epoch:', '0106', 'cost=', '1.680765462')\n",
      "('Epoch:', '0111', 'cost=', '1.680792373')\n",
      "('Epoch:', '0116', 'cost=', '1.680838518')\n",
      "('Epoch:', '0121', 'cost=', '1.680793925')\n",
      "('Epoch:', '0126', 'cost=', '1.680669505')\n",
      "('Epoch:', '0131', 'cost=', '1.680730268')\n",
      "('Epoch:', '0136', 'cost=', '1.680797561')\n",
      "('Epoch:', '0141', 'cost=', '1.680982417')\n",
      "('Epoch:', '0146', 'cost=', '1.680706693')\n",
      "('Epoch:', '0151', 'cost=', '1.680873592')\n",
      "('Epoch:', '0156', 'cost=', '1.680934810')\n",
      "('Epoch:', '0161', 'cost=', '1.680735233')\n",
      "('Epoch:', '0166', 'cost=', '1.680838524')\n",
      "('Epoch:', '0171', 'cost=', '1.680625718')\n",
      "('Epoch:', '0176', 'cost=', '1.680689215')\n",
      "('Epoch:', '0181', 'cost=', '1.680740192')\n",
      "('Epoch:', '0186', 'cost=', '1.680710408')\n",
      "('Epoch:', '0191', 'cost=', '1.680801782')\n",
      "('Epoch:', '0196', 'cost=', '1.680853131')\n",
      "[(0.82930644715752211, 0.12656204662810477), (0.83166912997439246, 0.12968266543723783), (0.83525632428828245, 0.12911364679830153), (0.83009903557070652, 0.13455360281690013), (0.83124765417094948, 0.12809076758154619), (0.82468685940371167, 0.13109165490543645), (0.83389354836555307, 0.13019687997875659), (0.83061989541559156, 0.13435227479224393), (0.83043690921615732, 0.13134513506552767), (0.83153745008047997, 0.13242640857879032)]\n"
     ]
    }
   ],
   "source": [
    "#test under cross validation to control overfitting \n",
    "from sklearn.model_selection import KFold \n",
    "batch_size = 100\n",
    "cv = KFold(n_splits = 10)\n",
    "average_test_deviations = []\n",
    "np.random.shuffle(normalised_non_frbs)\n",
    "for train_inds, test_inds in cv.split(normalised_non_frbs, normalised_non_frbs):\n",
    "    #we don't have y's, so just pass normalised_non_frbs in twice to make the function happy. \n",
    "    train_x = normalised_non_frbs[train_inds]\n",
    "    test_x = normalised_non_frbs[test_inds]\n",
    "    vae = train(network_architecture, batch_creator(train_x), training_epochs = 200, batch_size=batch_size)\n",
    "    #need to pass in whole number of the batch size \n",
    "    buffer_mul = int(np.ceil(float(test_x.shape[0]) / batch_size))\n",
    "    buf = np.zeros([batch_size * buffer_mul, normalised_non_frbs.shape[1]])\n",
    "    buf_recon = np.zeros([batch_size * buffer_mul, normalised_non_frbs.shape[1]])\n",
    "    for i in xrange(test_x.shape[0]):\n",
    "        buf[i,:] = test_x[i,:]\n",
    "    for i in xrange(buffer_mul):\n",
    "        ind = batch_size * i\n",
    "        buf_recon[ind:ind + batch_size] = vae.reconstruct(buf[ind:ind + batch_size])\n",
    "    test_recon = buf_recon[:test_x.shape[0]]\n",
    "    scores = np.exp(- np.sum((test_recon - test_x) **2, axis = 1))\n",
    "    average_test_deviations.append( (scores.mean(), scores.std()) )\n",
    "print average_test_deviations"
   ]
  },
  {
   "cell_type": "code",
   "execution_count": 31,
   "metadata": {
    "collapsed": false
   },
   "outputs": [],
   "source": [
    "dummy = np.zeros([100, normalised_frbs.shape[1]])\n",
    "for i in xrange(normalised_frbs.shape[0]):\\\n",
    "    dummy[i] = normalised_frbs[i]\n",
    "\n",
    "fake_frbs = vae.reconstruct(dummy)[:70]\n",
    "\n"
   ]
  },
  {
   "cell_type": "code",
   "execution_count": 36,
   "metadata": {
    "collapsed": false
   },
   "outputs": [
    {
     "data": {
      "text/plain": [
       "(array([  1.,   4.,   6.,  13.,  10.,   7.,   7.,   6.,  11.,   5.]),\n",
       " array([ 0.30451873,  0.35311521,  0.40171169,  0.45030817,  0.49890465,\n",
       "         0.54750113,  0.59609761,  0.64469409,  0.69329057,  0.74188705,\n",
       "         0.79048353]),\n",
       " <a list of 10 Patch objects>)"
      ]
     },
     "execution_count": 36,
     "metadata": {},
     "output_type": "execute_result"
    },
    {
     "data": {
      "image/png": "[encoded data removed]",
      "text/plain": [
       "<matplotlib.figure.Figure at 0x7f27a9a32310>"
      ]
     },
     "metadata": {},
     "output_type": "display_data"
    }
   ],
   "source": [
    "bayes_hist(np.exp( -((fake_frbs - normalised_frbs)**2).sum(axis = 1)))\n"
   ]
  },
  {
   "cell_type": "code",
   "execution_count": 37,
   "metadata": {
    "collapsed": false
   },
   "outputs": [
    {
     "data": {
      "text/plain": [
       "(array([  1.00000000e+00,   1.50000000e+01,   3.60000000e+01,\n",
       "          3.60000000e+01,   4.70000000e+01,   4.50000000e+01,\n",
       "          4.60000000e+01,   7.50000000e+01,   2.79000000e+02,\n",
       "          2.67100000e+03]),\n",
       " array([ 0.20807064,  0.28703701,  0.36600338,  0.44496975,  0.52393612,\n",
       "         0.60290249,  0.68186886,  0.76083523,  0.83980159,  0.91876796,\n",
       "         0.99773433]),\n",
       " <a list of 10 Patch objects>)"
      ]
     },
     "execution_count": 37,
     "metadata": {},
     "output_type": "execute_result"
    },
    {
     "data": {
      "image/png": "[encoded data removed]",
      "text/plain": [
       "<matplotlib.figure.Figure at 0x7f27a9986290>"
      ]
     },
     "metadata": {},
     "output_type": "display_data"
    }
   ],
   "source": [
    "bayes_hist(scores)"
   ]
  },
  {
   "cell_type": "code",
   "execution_count": 34,
   "metadata": {
    "collapsed": false
   },
   "outputs": [
    {
     "data": {
      "text/plain": [
       "(array([  3.,   3.,   4.,  16.,  13.,   9.,  10.,   3.,   5.,   4.]),\n",
       " array([-0.03784965, -0.03314629, -0.02844294, -0.02373959, -0.01903624,\n",
       "        -0.01433288, -0.00962953, -0.00492618, -0.00022283,  0.00448053,\n",
       "         0.00918388]),\n",
       " <a list of 10 Patch objects>)"
      ]
     },
     "execution_count": 34,
     "metadata": {},
     "output_type": "execute_result"
    },
    {
     "data": {
      "image/png": "[encoded data removed]",
      "text/plain": [
       "<matplotlib.figure.Figure at 0x7f27ab1df710>"
      ]
     },
     "metadata": {},
     "output_type": "display_data"
    }
   ],
   "source": [
    "%matplotlib inline\n",
    "latent = vae.transform(dummy)\n",
    "latent = latent[:70]\n",
    "random_indices = np.random.randint(normalised_frbs.shape[0], size = 2000)\n",
    "latent_noise = vae.transform(normalised_non_frbs[random_indices])\n",
    "bayes_hist(latent)"
   ]
  },
  {
   "cell_type": "code",
   "execution_count": 35,
   "metadata": {
    "collapsed": false
   },
   "outputs": [
    {
     "data": {
      "text/plain": [
       "(array([ 1564.,   298.,    58.,     0.,     0.,    28.,     0.,    25.,\n",
       "            0.,    27.]),\n",
       " array([-0.00230073, -0.00098155,  0.00033763,  0.0016568 ,  0.00297598,\n",
       "         0.00429516,  0.00561434,  0.00693351,  0.00825269,  0.00957187,\n",
       "         0.01089105]),\n",
       " <a list of 10 Patch objects>)"
      ]
     },
     "execution_count": 35,
     "metadata": {},
     "output_type": "execute_result"
    },
    {
     "data": {
      "image/png": "[encoded data removed]",
      "text/plain": [
       "<matplotlib.figure.Figure at 0x7f27aa1292d0>"
      ]
     },
     "metadata": {},
     "output_type": "display_data"
    }
   ],
   "source": [
    "bayes_hist(latent_noise)"
   ]
  },
  {
   "cell_type": "code",
   "execution_count": null,
   "metadata": {
    "collapsed": true
   },
   "outputs": [],
   "source": []
  }
 ],
 "metadata": {
  "kernelspec": {
   "display_name": "Python 2",
   "language": "python",
   "name": "python2"
  },
  "language_info": {
   "codemirror_mode": {
    "name": "ipython",
    "version": 2
   },
   "file_extension": ".py",
   "mimetype": "text/x-python",
   "name": "python",
   "nbconvert_exporter": "python",
   "pygments_lexer": "ipython2",
   "version": "2.7.12"
  }
 },
 "nbformat": 4,
 "nbformat_minor": 1
}
