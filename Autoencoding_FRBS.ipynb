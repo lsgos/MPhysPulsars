{
 "cells": [
  {
   "cell_type": "markdown",
   "metadata": {},
   "source": [
    "Try to use a novelty detection approach with an autoencoder. See Japkowicz, A Novelty Detection Approach to Classification "
   ]
  },
  {
   "cell_type": "code",
   "execution_count": 1,
   "metadata": {
    "collapsed": true
   },
   "outputs": [],
   "source": [
    "import numpy as np\n",
    "from matplotlib import pyplot as plt\n",
    "import tensorflow as tf"
   ]
  },
  {
   "cell_type": "markdown",
   "metadata": {},
   "source": [
    "The basic idea here follows Japkowicz et al, _A Novelty Based Approach to Classification_. This approach is designed for problems where negative examples are plentiful but positive examples are scarse, as in the case for frb detection. It exploits the fact that neural networks generalise poorly to examples outside their training sets. \n",
    "\n",
    "First, an autoencoder is trained on the negative examples. This is an unsupervised feature extraction method, which aims to map the input to a lower dimensional _latent space_. This is accomplised by having a network map the input to a hidden layer of lower dimensionality that the input, then attempting to reconstruct the input from this latent space alone, with the loss based on the difference between the ground truth and the models attempt at reconstruction. In order to efficiently do so, the network must capture meaningful features in the latent space. In the blog post I got this implementation of an autoencoder from, the author demonstrates the idea on the well-known MNIST set. \n",
    "\n",
    "Our approach to detect novelty is then to use the _error_ in the reconstruction of an example as a measure of the outlier-ness of an observation. Observations similar to those the auto-encoder saw during training will be reconstructed efficiently, wheras unusual observations will have poor reconstruction. We can this to a 'probablity' using a softmax\n",
    "\n",
    "Here, we are using a 'Variational autoencoder' which does some fancier stuff. Possibly we need to play round with the complexity of the model.\n",
    "\n",
    "The really nice thing about this is that we can carry out cross validation _only on the noise data_, to get the reconstruction error as low as possible, and use our simulations sparingly. \n"
   ]
  },
  {
   "cell_type": "code",
   "execution_count": 2,
   "metadata": {
    "collapsed": false
   },
   "outputs": [],
   "source": [
    "\"credit: https://jmetzen.github.io/2015-11-27/vae.html\"\n",
    "\n",
    "def xavier_init(fan_in, fan_out, constant=1): \n",
    "    \"\"\" Xavier initialization of network weights\"\"\"\n",
    "    # https://stackoverflow.com/questions/33640581/how-to-do-xavier-initialization-on-tensorflow\n",
    "    low = -constant*np.sqrt(6.0/(fan_in + fan_out)) \n",
    "    high = constant*np.sqrt(6.0/(fan_in + fan_out))\n",
    "    return tf.random_uniform((fan_in, fan_out), \n",
    "                             minval=low, maxval=high, \n",
    "                             dtype=tf.float32)\n",
    "\n",
    "class VariationalAutoencoder(object):\n",
    "    \"\"\" Variation Autoencoder (VAE) with an sklearn-like interface implemented using TensorFlow.\n",
    "    \n",
    "    This implementation uses probabilistic encoders and decoders using Gaussian \n",
    "    distributions and  realized by multi-layer perceptrons. The VAE can be learned\n",
    "    end-to-end.\n",
    "    \n",
    "    See \"Auto-Encoding Variational Bayes\" by Kingma and Welling for more details.\n",
    "    \"\"\"\n",
    "    def __init__(self, network_architecture, transfer_fct=tf.nn.relu, \n",
    "                 learning_rate=0.001, batch_size=100):\n",
    "        self.network_architecture = network_architecture\n",
    "        self.transfer_fct = transfer_fct\n",
    "        self.learning_rate = learning_rate\n",
    "        self.batch_size = batch_size\n",
    "        \n",
    "        # tf Graph input\n",
    "        self.x = tf.placeholder(tf.float32, [None, network_architecture[\"n_input\"]])\n",
    "        \n",
    "        # Create autoencoder network\n",
    "        self._create_network()\n",
    "        # Define loss function based variational upper-bound and \n",
    "        # corresponding optimizer\n",
    "        self._create_loss_optimizer()\n",
    "        \n",
    "        # Initializing the tensor flow variables\n",
    "        init = tf.global_variables_initializer()\n",
    "\n",
    "        # Launch the session\n",
    "        self.sess = tf.InteractiveSession()\n",
    "        self.sess.run(init)\n",
    "    \n",
    "    def _create_network(self):\n",
    "        # Initialize autoencode network weights and biases\n",
    "        network_weights = self._initialize_weights(**self.network_architecture)\n",
    "\n",
    "        # Use recognition network to determine mean and \n",
    "        # (log) variance of Gaussian distribution in latent\n",
    "        # space\n",
    "        self.z_mean, self.z_log_sigma_sq = \\\n",
    "            self._recognition_network(network_weights[\"weights_recog\"], \n",
    "                                      network_weights[\"biases_recog\"])\n",
    "\n",
    "        # Draw one sample z from Gaussian distribution\n",
    "        n_z = self.network_architecture[\"n_z\"]\n",
    "        eps = tf.random_normal((self.batch_size, n_z), 0, 1, \n",
    "                               dtype=tf.float32)\n",
    "        # z = mu + sigma*epsilon\n",
    "        self.z = tf.add(self.z_mean, \n",
    "                        tf.mul(tf.sqrt(tf.exp(self.z_log_sigma_sq)), eps))\n",
    "\n",
    "        # Use generator to determine mean of\n",
    "        # Bernoulli distribution of reconstructed input\n",
    "        self.x_reconstr_mean = \\\n",
    "            self._generator_network(network_weights[\"weights_gener\"],\n",
    "                                    network_weights[\"biases_gener\"])\n",
    "            \n",
    "    def _initialize_weights(self, n_hidden_recog, \n",
    "                            n_hidden_gener,\n",
    "                            n_input, n_z):\n",
    "        all_weights = dict()\n",
    "        all_weights['weights_recog'] = {\n",
    "            'h': tf.Variable(xavier_init(n_input, n_hidden_recog)),\n",
    "            #'h2': tf.Variable(xavier_init(n_hidden_recog_1, n_hidden_recog_2)),\n",
    "            'out_mean': tf.Variable(xavier_init(n_hidden_recog, n_z)),\n",
    "            'out_log_sigma': tf.Variable(xavier_init(n_hidden_recog, n_z))}\n",
    "        all_weights['biases_recog'] = {\n",
    "            'b': tf.Variable(tf.zeros([n_hidden_recog], dtype=tf.float32)),\n",
    "            #'b2': tf.Variable(tf.zeros([n_hidden_recog_2], dtype=tf.float32)),\n",
    "            'out_mean': tf.Variable(tf.zeros([n_z], dtype=tf.float32)),\n",
    "            'out_log_sigma': tf.Variable(tf.zeros([n_z], dtype=tf.float32))}\n",
    "        all_weights['weights_gener'] = {\n",
    "            'h': tf.Variable(xavier_init(n_z, n_hidden_gener)),\n",
    "            #'h2': tf.Variable(xavier_init(n_hidden_gener_1, n_hidden_gener_2)),\n",
    "            'out_mean': tf.Variable(xavier_init(n_hidden_gener, n_input)),\n",
    "            'out_log_sigma': tf.Variable(xavier_init(n_hidden_gener, n_input))}\n",
    "        all_weights['biases_gener'] = {\n",
    "            'b': tf.Variable(tf.zeros([n_hidden_gener], dtype=tf.float32)),\n",
    "            #'b2': tf.Variable(tf.zeros([n_hidden_gener], dtype=tf.float32)),\n",
    "            'out_mean': tf.Variable(tf.zeros([n_input], dtype=tf.float32)),\n",
    "            'out_log_sigma': tf.Variable(tf.zeros([n_input], dtype=tf.float32))}\n",
    "        return all_weights\n",
    "            \n",
    "    def _recognition_network(self, weights, biases):\n",
    "        # Generate probabilistic encoder (recognition network), which\n",
    "        # maps inputs onto a normal distribution in latent space.\n",
    "        # The transformation is parametrized and can be learned.\n",
    "        hidden_layer = self.transfer_fct(tf.add(tf.matmul(self.x, weights['h']), \n",
    "                                           biases['b'])) \n",
    "        #layer_2 = self.transfer_fct(tf.add(tf.matmul(layer_1, weights['h2']), \n",
    "                                      #     biases['b2'])) \n",
    "        z_mean = tf.add(tf.matmul(hidden_layer, weights['out_mean']),\n",
    "                        biases['out_mean'])\n",
    "        z_log_sigma_sq = \\\n",
    "            tf.add(tf.matmul(hidden_layer, weights['out_log_sigma']), \n",
    "                   biases['out_log_sigma'])\n",
    "        return (z_mean, z_log_sigma_sq)\n",
    "\n",
    "    def _generator_network(self, weights, biases):\n",
    "        # Generate probabilistic decoder (decoder network), which\n",
    "        # maps points in latent space onto a Bernoulli distribution in data space.\n",
    "        # The transformation is parametrized and can be learned.\n",
    "        hidden_layer = self.transfer_fct(tf.add(tf.matmul(self.z, weights['h']), \n",
    "                                           biases['b'])) \n",
    "        #layer_2 = self.transfer_fct(tf.add(tf.matmul(layer_1, weights['h2']), \n",
    "        #                                   biases['b2'])) \n",
    "        x_reconstr_mean = \\\n",
    "            tf.nn.sigmoid(tf.add(tf.matmul(hidden_layer, weights['out_mean']), \n",
    "                                 biases['out_mean']))\n",
    "        return x_reconstr_mean\n",
    "            \n",
    "    def _create_loss_optimizer(self):\n",
    "        # The loss is composed of two terms:\n",
    "        # 1.) The reconstruction loss (the negative log probability\n",
    "        #     of the input under the reconstructed Bernoulli distribution \n",
    "        #     induced by the decoder in the data space).\n",
    "        #     This can be interpreted as the number of \"nats\" required\n",
    "        #     for reconstructing the input when the activation in latent\n",
    "        #     is given.\n",
    "        # Adding 1e-10 to avoid evaluation of log(0.0)\n",
    "        reconstr_loss = \\\n",
    "            -tf.reduce_sum(self.x * tf.log(1e-5 + self.x_reconstr_mean)\n",
    "                           + (1-self.x) * tf.log(1e-5 + 1 - self.x_reconstr_mean),\n",
    "                           1)\n",
    "        \n",
    "        # 2.) The latent loss, which is defined as the Kullback Leibler divergence \n",
    "        ##    between the distribution in latent space induced by the encoder on \n",
    "        #     the data and some prior. This acts as a kind of regularizer.\n",
    "        #     This can be interpreted as the number of \"nats\" required\n",
    "        #     for transmitting the the latent space distribution given\n",
    "        #     the prior.\n",
    "        latent_loss = -0.5 * tf.reduce_sum(1 + self.z_log_sigma_sq \n",
    "                                           - tf.square(self.z_mean) \n",
    "                                           - tf.exp(self.z_log_sigma_sq), 1)\n",
    "        self.cost = tf.reduce_mean(reconstr_loss + latent_loss)   # average over batch\n",
    "        # Use ADAM optimizer\n",
    "        self.optimizer = \\\n",
    "            tf.train.AdamOptimizer(learning_rate=self.learning_rate).minimize(self.cost)\n",
    "        \n",
    "    def partial_fit(self, X):\n",
    "        \"\"\"Train model based on mini-batch of input data.\n",
    "        \n",
    "        Return cost of mini-batch.\n",
    "        \"\"\"\n",
    "        opt, cost = self.sess.run((self.optimizer, self.cost), \n",
    "                                  feed_dict={self.x: X})\n",
    "        return cost\n",
    "    \n",
    "    def transform(self, X):\n",
    "        \"\"\"Transform data by mapping it into the latent space.\"\"\"\n",
    "        # Note: This maps to mean of distribution, we could alternatively\n",
    "        # sample from Gaussian distribution\n",
    "        return self.sess.run(self.z_mean, feed_dict={self.x: X})\n",
    "    \n",
    "    def generate(self, z_mu=None):\n",
    "        \"\"\" Generate data by sampling from latent space.\n",
    "        \n",
    "        If z_mu is not None, data for this point in latent space is\n",
    "        generated. Otherwise, z_mu is drawn from prior in latent \n",
    "        space.        \n",
    "        \"\"\"\n",
    "        if z_mu is None:\n",
    "            z_mu = np.random.normal(size=self.network_architecture[\"n_z\"])\n",
    "        # Note: This maps to mean of distribution, we could alternatively\n",
    "        # sample from Gaussian distribution\n",
    "        return self.sess.run(self.x_reconstr_mean, \n",
    "                             feed_dict={self.z: z_mu})\n",
    "    \n",
    "    def reconstruct(self, X):\n",
    "        \"\"\" Use VAE to reconstruct given data. \"\"\"\n",
    "        return self.sess.run(self.x_reconstr_mean, \n",
    "                             feed_dict={self.x: X})\n",
    "    \n",
    "def train(network_architecture, data_batches, learning_rate=0.001,\n",
    "          batch_size=100, training_epochs=10, display_step=5):\n",
    "    vae = VariationalAutoencoder(network_architecture, \n",
    "                                 learning_rate=learning_rate, \n",
    "                                 batch_size=batch_size)\n",
    "    data_batches.batch_size = batch_size\n",
    "    # Training cycle\n",
    "    for epoch in range(training_epochs):\n",
    "        avg_cost = 0.\n",
    "        total_batch = int(n_samples / batch_size)\n",
    "        # Loop over all batches\n",
    "        for i in range(total_batch):\n",
    "            batch_xs = data_batches.get_batch()\n",
    "            \n",
    "            # Fit training using batch data\n",
    "            cost = vae.partial_fit(batch_xs)\n",
    "            \n",
    "            # Compute average loss\n",
    "            avg_cost += cost / n_samples * batch_size\n",
    "\n",
    "        # Display logs per epoch step\n",
    "        #if epoch % display_step == 0:\n",
    "         #   print(\"Epoch:\", '%04d' % (epoch+1), \n",
    "        #        \"cost=\", \"{:.9f}\".format(avg_cost))\n",
    "    return vae"
   ]
  },
  {
   "cell_type": "code",
   "execution_count": 3,
   "metadata": {
    "collapsed": false
   },
   "outputs": [],
   "source": [
    "\"\"\"Load some frb data\"\"\"\n",
    "\n",
    "with open(\"frb_datasets/w_snr_dm_nn_score.dat\") as f:\n",
    "    data_file = [[float(field) for field in line.strip().split(' ')] for line in f]\n",
    "    \n",
    "all_data = np.array(data_file, dtype=np.float32)\n",
    "\n",
    "#remove all frbs from the dataset: we only want to train the encoder on noise, in order to detect outliers \n",
    "\n",
    "non_frbs = all_data[all_data[:,-1] == 0][:,:-1]\n",
    "frbs = all_data[all_data[:,-1] == 1][:,:-1]\n",
    "    \n",
    "    "
   ]
  },
  {
   "cell_type": "code",
   "execution_count": 4,
   "metadata": {
    "collapsed": false
   },
   "outputs": [],
   "source": [
    "class batch_creator(object):\n",
    "    def __init__(self, data, batchsize = 100):\n",
    "        self.data = data\n",
    "        self.batchsize = batchsize\n",
    "        self.counter = 0 \n",
    "        self.datasize = self.data.shape[0]\n",
    "        self.generator = self.batch_iter()\n",
    "    def batch_iter(self):\n",
    "        while(True):\n",
    "            end_batch = self.counter + self.batchsize \n",
    "            yield self.data[self.counter:end_batch]\n",
    "            if end_batch > self.datasize:\n",
    "                self.counter = 0\n",
    "                np.random.shuffle(self.data)\n",
    "    def get_batch(self):\n",
    "        return self.generator.next()"
   ]
  },
  {
   "cell_type": "code",
   "execution_count": 46,
   "metadata": {
    "collapsed": false
   },
   "outputs": [],
   "source": [
    "network_architecture = dict(n_hidden_recog = 100,\n",
    "                        n_hidden_gener = 100,\n",
    "                        n_input = 4,\n",
    "                        n_z = 2)\n",
    "n_samples = non_frbs.shape[0]\n",
    "\n",
    "#normalise frbs so each has mean one \n",
    "normalised_frbs = np.copy(frbs)\n",
    "normalised_non_frbs = np.copy(non_frbs)\n",
    "\n",
    "for i in xrange(normalised_non_frbs.shape[1]):\n",
    "    norm_factor = np.max(normalised_non_frbs[:,i])\n",
    "    normalised_non_frbs[:,i] /= norm_factor\n",
    "    normalised_frbs[:,i] /= norm_factor\n"
   ]
  },
  {
   "cell_type": "code",
   "execution_count": 56,
   "metadata": {
    "collapsed": false,
    "scrolled": true
   },
   "outputs": [],
   "source": [
    "#test under cross validation to control overfitting, computing the ROC curves as we go \n",
    "from sklearn.model_selection import KFold \n",
    "from sklearn.metrics import roc_curve, roc_auc_score \n",
    "\n",
    "batch_size = 100\n",
    "training_epochs = 300\n",
    "cv = KFold(n_splits = 5)\n",
    "roc_curves = []\n",
    "roc_curve_scores = []\n",
    "\n",
    "np.random.shuffle(normalised_non_frbs)\n",
    "\n",
    "for train_inds, test_inds in cv.split(normalised_non_frbs, normalised_non_frbs):\n",
    "    #we don't have y's, so just pass normalised_non_frbs in twice to make the function happy. \n",
    "    train_x = normalised_non_frbs[train_inds]\n",
    "    \n",
    "    #testing set consists of noise with FRBS added to it \n",
    "    test_x = np.concatenate([normalised_non_frbs[test_inds], normalised_frbs])\n",
    "    \n",
    "    test_labels = np.array([0 for _ in test_inds] + [1 for _ in normalised_frbs])\n",
    "    \n",
    "    vae = train(network_architecture,\n",
    "                batch_creator(train_x),\n",
    "                training_epochs = training_epochs,\n",
    "                batch_size=batch_size)\n",
    "    #need to pass in whole number of the batch size \n",
    "    buffer_mul = int(np.ceil(float(test_x.shape[0]) / batch_size))\n",
    "    buf = np.zeros([batch_size * buffer_mul, normalised_non_frbs.shape[1]])\n",
    "    buf_recon = np.zeros([batch_size * buffer_mul, normalised_non_frbs.shape[1]])\n",
    "    for i in xrange(test_x.shape[0]):\n",
    "        buf[i,:] = test_x[i,:]\n",
    "    for i in xrange(buffer_mul):\n",
    "        ind = batch_size * i\n",
    "        buf_recon[ind:ind + batch_size] = vae.reconstruct(buf[ind:ind + batch_size])\n",
    "        \n",
    "    \n",
    "    test_recon = buf_recon[:test_x.shape[0]]\n",
    "    scores = ((test_recon - test_x) **2).sum(axis = 1) #mean squared reconstruction error \n",
    "    \n",
    "    #get the ROC curve and AUC \n",
    "    roc_curves.append(roc_curve(test_labels, scores, pos_label = 1))\n",
    "    roc_curve_scores.append(roc_auc_score(test_labels, scores))\n",
    "    \n"
   ]
  },
  {
   "cell_type": "markdown",
   "metadata": {
    "collapsed": true
   },
   "source": [
    "Plot the ROC and mean ROC curves for these features: "
   ]
  },
  {
   "cell_type": "code",
   "execution_count": 57,
   "metadata": {
    "collapsed": false
   },
   "outputs": [
    {
     "name": "stdout",
     "output_type": "stream",
     "text": [
      "Mean AUC score: 0.811767031694\n"
     ]
    },
    {
     "data": {
      "image/png": "[encoded data removed]",
      "text/plain": [
       "<matplotlib.figure.Figure at 0x7f2416bb8650>"
      ]
     },
     "metadata": {},
     "output_type": "display_data"
    }
   ],
   "source": [
    "%matplotlib inline\n",
    "\n",
    "for fpr, tpr, _ in roc_curves: \n",
    "    plt.plot(fpr, tpr, linestyle = '-')\n",
    "\n",
    "    \n",
    "plt.plot(np.linspace(0,1,100), np.linspace(0,1,100), color='k', linestyle='--')\n",
    "print \"Mean AUC score: {}\".format(sum(roc_curve_scores) / 5)"
   ]
  },
  {
   "cell_type": "code",
   "execution_count": 54,
   "metadata": {
    "collapsed": false
   },
   "outputs": [
    {
     "name": "stdout",
     "output_type": "stream",
     "text": [
      "AUC Score for feature: 0.931565856891\n"
     ]
    },
    {
     "data": {
      "image/png": "[encoded data removed]",
      "text/plain": [
       "<matplotlib.figure.Figure at 0x7f2416d1d590>"
      ]
     },
     "metadata": {},
     "output_type": "display_data"
    }
   ],
   "source": [
    "#compare this to using the SNR as a cutoff threshold \n",
    "feat = 1\n",
    "data_all = np.concatenate([non_frbs, frbs])\n",
    "data_labs = np.array([0 for _ in non_frbs] + [1 for _ in frbs])\n",
    "fpr, tpr, _ = roc_curve(data_labs, data_all[:,feat], pos_label = 1)\n",
    "plt.plot(fpr, tpr)\n",
    "plt.plot(np.linspace(0,1,100), np.linspace(0,1,100), color='k', linestyle='--')\n",
    "\n",
    "print \"AUC Score for feature: {}\".format(roc_auc_score(data_labs, data_all[:,feat]))"
   ]
  },
  {
   "cell_type": "markdown",
   "metadata": {},
   "source": [
    "Since the SNR is a very good score by itself, try removing it from the training set and see if the novelty detector is still a useful filter "
   ]
  },
  {
   "cell_type": "code",
   "execution_count": 63,
   "metadata": {
    "collapsed": false
   },
   "outputs": [],
   "source": [
    "network_architecture = dict(n_hidden_recog = 50,\n",
    "                        n_hidden_gener = 50,\n",
    "                        n_input = 3,\n",
    "                        n_z = 2)\n",
    "n_samples = non_frbs.shape[0]\n",
    "\n",
    "roc_curves_no_snr = []\n",
    "roc_curve_scores_no_snr = []\n",
    "\n",
    "#normalise frbs so each has mean one \n",
    "normalised_frbs_no_snr = normalised_frbs[:,[0,2,3]]\n",
    "normalised_non_frbs_no_snr = normalised_non_frbs[:,[0,2,3]]\n",
    "\n",
    "for train_inds, test_inds in cv.split(normalised_non_frbs_no_snr, normalised_non_frbs_no_snr):\n",
    "    #we don't have y's, so just pass normalised_non_frbs_no_snr in twice to make the function happy. \n",
    "    train_x = normalised_non_frbs_no_snr[train_inds]\n",
    "    \n",
    "    #testing set consists of noise with FRBS added to it \n",
    "    test_x = np.concatenate([normalised_non_frbs_no_snr[test_inds], normalised_frbs_no_snr])\n",
    "    \n",
    "    test_labels = np.array([0 for _ in test_inds] + [1 for _ in normalised_frbs_no_snr])\n",
    "    \n",
    "    vae = train(network_architecture,\n",
    "                batch_creator(train_x),\n",
    "                training_epochs = training_epochs,\n",
    "                batch_size=batch_size)\n",
    "    #need to pass in whole number of the batch size \n",
    "    buffer_mul = int(np.ceil(float(test_x.shape[0]) / batch_size))\n",
    "    buf = np.zeros([batch_size * buffer_mul, normalised_non_frbs_no_snr.shape[1]])\n",
    "    buf_recon = np.zeros([batch_size * buffer_mul, normalised_non_frbs_no_snr.shape[1]])\n",
    "    for i in xrange(test_x.shape[0]):\n",
    "        buf[i,:] = test_x[i,:]\n",
    "    for i in xrange(buffer_mul):\n",
    "        ind = batch_size * i\n",
    "        buf_recon[ind:ind + batch_size] = vae.reconstruct(buf[ind:ind + batch_size])\n",
    "        \n",
    "    \n",
    "    test_recon = buf_recon[:test_x.shape[0]]\n",
    "    scores = ((test_recon - test_x) **2).sum(axis = 1) #mean squared reconstruction error \n",
    "    \n",
    "    #get the ROC curve and AUC \n",
    "    roc_curves_no_snr.append(roc_curve(test_labels, scores, pos_label = 1))\n",
    "    roc_curve_scores_no_snr.append(roc_auc_score(test_labels, scores))\n",
    "    \n",
    "\n"
   ]
  },
  {
   "cell_type": "code",
   "execution_count": 65,
   "metadata": {
    "collapsed": false
   },
   "outputs": [
    {
     "name": "stdout",
     "output_type": "stream",
     "text": [
      "Mean AUC score: 0.355485800724\n"
     ]
    },
    {
     "data": {
      "image/png": "[encoded data removed]",
      "text/plain": [
       "<matplotlib.figure.Figure at 0x7f2410f02d90>"
      ]
     },
     "metadata": {},
     "output_type": "display_data"
    }
   ],
   "source": [
    "for fpr, tpr, _ in roc_curves_no_snr: \n",
    "    plt.plot(fpr, tpr, linestyle = '-')\n",
    "\n",
    "    \n",
    "plt.plot(np.linspace(0,1,100), np.linspace(0,1,100), color='k', linestyle='--')\n",
    "print \"Mean AUC score: {}\".format(sum(roc_curve_scores_no_snr) / 5)"
   ]
  },
  {
   "cell_type": "code",
   "execution_count": 74,
   "metadata": {
    "collapsed": false
   },
   "outputs": [],
   "source": [
    "#try an isolation forest \n",
    "from sklearn.ensemble import IsolationForest\n",
    "\n",
    "cv = KFold(n_splits = 5)\n",
    "roc_curves_ifrst = []\n",
    "roc_curve_scores_ifrst = []\n",
    "\n",
    "np.random.shuffle(normalised_non_frbs)\n",
    "\n",
    "for train_inds, test_inds in cv.split(normalised_non_frbs, normalised_non_frbs):\n",
    "    #we don't have y's, so just pass normalised_non_frbs in twice to make the function happy. \n",
    "    train_x = normalised_non_frbs[train_inds]\n",
    "    \n",
    "    #testing set consists of noise with FRBS added to it \n",
    "    test_x = np.concatenate([normalised_non_frbs[test_inds], normalised_frbs])\n",
    "    \n",
    "    test_labels = np.array([0 for _ in test_inds] + [1 for _ in normalised_frbs])\n",
    "    \n",
    "    ifrst = IsolationForest()\n",
    "    ifrst.fit(train_x)\n",
    "    scores = -1 * ifrst.decision_function(test_x)\n",
    "    roc_curves_ifrst.append(roc_curve(test_labels, scores))\n",
    "    roc_curve_scores_ifrst.append(roc_auc_score(test_labels, scores))\n",
    "    \n"
   ]
  },
  {
   "cell_type": "code",
   "execution_count": 75,
   "metadata": {
    "collapsed": false
   },
   "outputs": [
    {
     "name": "stdout",
     "output_type": "stream",
     "text": [
      "Mean AUC score: 0.96571582726\n"
     ]
    },
    {
     "data": {
      "image/png": "[encoded data removed]",
      "text/plain": [
       "<matplotlib.figure.Figure at 0x7f241511f3d0>"
      ]
     },
     "metadata": {},
     "output_type": "display_data"
    }
   ],
   "source": [
    "for fpr, tpr, _ in roc_curves_ifrst: \n",
    "    plt.plot(fpr, tpr, linestyle = '-')\n",
    "\n",
    "    \n",
    "plt.plot(np.linspace(0,1,100), np.linspace(0,1,100), color='k', linestyle='--')\n",
    "print \"Mean AUC score: {}\".format(sum(roc_curve_scores_ifrst) / 5)"
   ]
  },
  {
   "cell_type": "code",
   "execution_count": 70,
   "metadata": {
    "collapsed": false
   },
   "outputs": [
    {
     "data": {
      "text/plain": [
       "array([ 1,  1,  1, ..., -1, -1, -1])"
      ]
     },
     "execution_count": 70,
     "metadata": {},
     "output_type": "execute_result"
    }
   ],
   "source": []
  },
  {
   "cell_type": "code",
   "execution_count": 71,
   "metadata": {
    "collapsed": false
   },
   "outputs": [
    {
     "data": {
      "text/plain": [
       "array([ 0.09283166,  0.09475361,  0.12375692, ..., -0.11870164,\n",
       "       -0.13771524, -0.14571977])"
      ]
     },
     "execution_count": 71,
     "metadata": {},
     "output_type": "execute_result"
    }
   ],
   "source": []
  },
  {
   "cell_type": "code",
   "execution_count": null,
   "metadata": {
    "collapsed": true
   },
   "outputs": [],
   "source": []
  }
 ],
 "metadata": {
  "kernelspec": {
   "display_name": "Python 2",
   "language": "python",
   "name": "python2"
  },
  "language_info": {
   "codemirror_mode": {
    "name": "ipython",
    "version": 2
   },
   "file_extension": ".py",
   "mimetype": "text/x-python",
   "name": "python",
   "nbconvert_exporter": "python",
   "pygments_lexer": "ipython2",
   "version": "2.7.12"
  }
 },
 "nbformat": 4,
 "nbformat_minor": 1
}
