{
 "cells": [
  {
   "cell_type": "code",
   "execution_count": 1,
   "metadata": {
    "collapsed": true
   },
   "outputs": [],
   "source": [
    "import numpy as np\n",
    "from JACS_utils import CSV\n",
    "from JACS_utils import ClassifierStats\n",
    "from matplotlib import pyplot as plt\n",
    "%matplotlib inline"
   ]
  },
  {
   "cell_type": "code",
   "execution_count": 2,
   "metadata": {
    "collapsed": true
   },
   "outputs": [],
   "source": [
    "csv = CSV.CSV()\n",
    "X,y = csv.read('../datasets/HTRU2/HTRU_2.csv')"
   ]
  },
  {
   "cell_type": "code",
   "execution_count": 12,
   "metadata": {
    "collapsed": false
   },
   "outputs": [],
   "source": [
    "from sklearn.metrics import classification_report\n",
    "from sklearn.model_selection import KFold"
   ]
  },
  {
   "cell_type": "code",
   "execution_count": 7,
   "metadata": {
    "collapsed": false
   },
   "outputs": [
    {
     "data": {
      "text/plain": [
       "array([ 0.97519692,  0.98122695,  0.97652976])"
      ]
     },
     "execution_count": 7,
     "metadata": {},
     "output_type": "execute_result"
    }
   ],
   "source": [
    "from sklearn.ensemble import AdaBoostClassifier as adaboost\n",
    "ada_clf = adaboost()"
   ]
  },
  {
   "cell_type": "code",
   "execution_count": 19,
   "metadata": {
    "collapsed": false
   },
   "outputs": [],
   "source": [
    "from sklearn import metrics\n",
    "def cross_val_metrics(clf,X,Y, k = 5):\n",
    "    k_fold = KFold(n_splits = k)\n",
    "    for train,test in k_fold.split(X):\n",
    "        clf.fit(X[train], Y[train])\n",
    "        pred = clf.predict(X[test])\n",
    "        print metrics.classification_report(Y[test],pred)\n",
    "        \n",
    "\n"
   ]
  },
  {
   "cell_type": "code",
   "execution_count": 21,
   "metadata": {
    "collapsed": false
   },
   "outputs": [
    {
     "name": "stdout",
     "output_type": "stream",
     "text": [
      "             precision    recall  f1-score   support\n",
      "\n",
      "          0       0.98      1.00      0.99      1633\n",
      "          1       0.97      0.81      0.88       157\n",
      "\n",
      "avg / total       0.98      0.98      0.98      1790\n",
      "\n",
      "             precision    recall  f1-score   support\n",
      "\n",
      "          0       0.96      1.00      0.98      1519\n",
      "          1       0.97      0.76      0.85       271\n",
      "\n",
      "avg / total       0.96      0.96      0.96      1790\n",
      "\n",
      "             precision    recall  f1-score   support\n",
      "\n",
      "          0       0.96      0.99      0.98      1450\n",
      "          1       0.97      0.83      0.89       340\n",
      "\n",
      "avg / total       0.96      0.96      0.96      1790\n",
      "\n",
      "             precision    recall  f1-score   support\n",
      "\n",
      "          0       0.99      1.00      0.99      1615\n",
      "          1       0.96      0.89      0.92       175\n",
      "\n",
      "avg / total       0.99      0.99      0.99      1790\n",
      "\n",
      "             precision    recall  f1-score   support\n",
      "\n",
      "          0       0.97      0.99      0.98      1570\n",
      "          1       0.95      0.80      0.86       220\n",
      "\n",
      "avg / total       0.97      0.97      0.97      1790\n",
      "\n",
      "             precision    recall  f1-score   support\n",
      "\n",
      "          0       0.99      0.99      0.99      1658\n",
      "          1       0.88      0.87      0.88       132\n",
      "\n",
      "avg / total       0.98      0.98      0.98      1790\n",
      "\n",
      "             precision    recall  f1-score   support\n",
      "\n",
      "          0       0.98      0.99      0.98      1587\n",
      "          1       0.93      0.83      0.88       203\n",
      "\n",
      "avg / total       0.97      0.97      0.97      1790\n",
      "\n",
      "             precision    recall  f1-score   support\n",
      "\n",
      "          0       0.99      0.99      0.99      1702\n",
      "          1       0.78      0.86      0.82        88\n",
      "\n",
      "avg / total       0.98      0.98      0.98      1790\n",
      "\n",
      "             precision    recall  f1-score   support\n",
      "\n",
      "          0       1.00      1.00      1.00      1763\n",
      "          1       0.76      0.73      0.75        26\n",
      "\n",
      "avg / total       0.99      0.99      0.99      1789\n",
      "\n",
      "             precision    recall  f1-score   support\n",
      "\n",
      "          0       0.99      0.99      0.99      1762\n",
      "          1       0.53      0.67      0.59        27\n",
      "\n",
      "avg / total       0.99      0.99      0.99      1789\n",
      "\n"
     ]
    }
   ],
   "source": [
    "cross_val_metrics(ada_clf,X,y,k=10)"
   ]
  },
  {
   "cell_type": "code",
   "execution_count": null,
   "metadata": {
    "collapsed": true
   },
   "outputs": [],
   "source": []
  }
 ],
 "metadata": {
  "kernelspec": {
   "display_name": "Python 2",
   "language": "python",
   "name": "python2"
  },
  "language_info": {
   "codemirror_mode": {
    "name": "ipython",
    "version": 2
   },
   "file_extension": ".py",
   "mimetype": "text/x-python",
   "name": "python",
   "nbconvert_exporter": "python",
   "pygments_lexer": "ipython2",
   "version": "2.7.12"
  }
 },
 "nbformat": 4,
 "nbformat_minor": 1
}
